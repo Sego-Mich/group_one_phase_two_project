{
 "cells": [
  {
   "cell_type": "code",
   "execution_count": null,
   "id": "9bb081e6",
   "metadata": {},
   "outputs": [],
   "source": [
    "#importing the libraries\n",
    "import numpy as np\n",
    "import pandas as pd\n",
    "import matplotlib.pyplot as plt\n",
    "import seaborn as sns\n",
    "import sklearn\n",
    "import sqlite3\n",
    "import warnings\n",
    "\n",
    "# Suppress all warnings\n",
    "warnings.filterwarnings('ignore')"
   ]
  },
  {
   "cell_type": "code",
   "execution_count": null,
   "id": "dbca3453",
   "metadata": {},
   "outputs": [],
   "source": [
    "#loading the necessary dataset\n",
    "#loading the tmdb movies csv file\n",
    "tmdb=pd.read_csv(\"tmdb.movies.csv\")\n",
    "tmdb"
   ]
  },
  {
   "cell_type": "code",
   "execution_count": null,
   "id": "9351e378",
   "metadata": {},
   "outputs": [],
   "source": [
    "#creating a copy\n",
    "tmdb1 = tmdb.copy(deep=True)\n",
    "tmdb1"
   ]
  },
  {
   "cell_type": "code",
   "execution_count": null,
   "id": "488cf539",
   "metadata": {},
   "outputs": [],
   "source": [
    "#dropping unncessary columns\n",
    "tmdb1.drop([\"vote_average\",\"vote_count\",\"genre_ids\",\"id\"], axis=1,inplace=True)"
   ]
  },
  {
   "cell_type": "code",
   "execution_count": null,
   "id": "1d42e2c9",
   "metadata": {},
   "outputs": [],
   "source": [
    "tmdb1"
   ]
  },
  {
   "cell_type": "code",
   "execution_count": null,
   "id": "7d0eb5f6",
   "metadata": {},
   "outputs": [],
   "source": [
    "#renaming the unnamed column'\n",
    "tmdb1.rename(columns={\"Unnamed\":\"id\"},inplace=True)"
   ]
  },
  {
   "cell_type": "code",
   "execution_count": null,
   "id": "cc433615",
   "metadata": {},
   "outputs": [],
   "source": [
    "tmdb1"
   ]
  },
  {
   "cell_type": "code",
   "execution_count": null,
   "id": "efc48512",
   "metadata": {},
   "outputs": [],
   "source": [
    "tmdb1.rename(columns={\"Unnamed: 0\":\"id\"},inplace=True)"
   ]
  },
  {
   "cell_type": "code",
   "execution_count": null,
   "id": "cb031e25",
   "metadata": {},
   "outputs": [],
   "source": [
    "tmdb1"
   ]
  },
  {
   "cell_type": "code",
   "execution_count": null,
   "id": "435b1fbd",
   "metadata": {},
   "outputs": [],
   "source": [
    "tmdb1[\"popularity\"]=tmdb1[\"popularity\"].round(1)"
   ]
  },
  {
   "cell_type": "code",
   "execution_count": null,
   "id": "e5fe478e",
   "metadata": {},
   "outputs": [],
   "source": [
    "tmdb1"
   ]
  },
  {
   "cell_type": "code",
   "execution_count": null,
   "id": "3ec7adca",
   "metadata": {},
   "outputs": [],
   "source": [
    "tmdb1[\"release_date\"]= pd.to_datetime(tmdb1[\"release_date\"]).dt.year"
   ]
  },
  {
   "cell_type": "code",
   "execution_count": null,
   "id": "e7a9a17c",
   "metadata": {},
   "outputs": [],
   "source": [
    "tmdb1"
   ]
  },
  {
   "cell_type": "code",
   "execution_count": null,
   "id": "b0ca8940",
   "metadata": {},
   "outputs": [],
   "source": [
    "#checking for missing values \n",
    "tmdb1.isna().sum()"
   ]
  },
  {
   "cell_type": "code",
   "execution_count": null,
   "id": "0de89a48",
   "metadata": {},
   "outputs": [],
   "source": [
    "#checking for duplicated values\n",
    "tmdb1.duplicated().sum()"
   ]
  },
  {
   "cell_type": "code",
   "execution_count": null,
   "id": "3cbeb5c1",
   "metadata": {},
   "outputs": [],
   "source": [
    "bom=pd.read_csv(\"bom.movie_gross.csv\")"
   ]
  },
  {
   "cell_type": "code",
   "execution_count": null,
   "id": "0b562b84",
   "metadata": {},
   "outputs": [],
   "source": [
    "bom"
   ]
  },
  {
   "cell_type": "code",
   "execution_count": null,
   "id": "8e2dc4fa",
   "metadata": {},
   "outputs": [],
   "source": [
    "bom1 = bom.copy(deep=True)\n",
    "bom1"
   ]
  },
  {
   "cell_type": "code",
   "execution_count": null,
   "id": "92963bc0",
   "metadata": {},
   "outputs": [],
   "source": [
    "bom1.isna().sum()"
   ]
  },
  {
   "cell_type": "code",
   "execution_count": null,
   "id": "e1455b34",
   "metadata": {},
   "outputs": [],
   "source": [
    "bom1.hist(bins=15,figsize=(6,6));"
   ]
  },
  {
   "cell_type": "code",
   "execution_count": null,
   "id": "ec15fb00",
   "metadata": {},
   "outputs": [],
   "source": [
    "bom1[\"domestic_gross\"]=bom1[\"domestic_gross\"].fillna(bom1[\"domestic_gross\"].median())"
   ]
  },
  {
   "cell_type": "code",
   "execution_count": null,
   "id": "b686fa5b",
   "metadata": {},
   "outputs": [],
   "source": [
    "# Step 1: Remove commas from the 'foreign_gross' column\n",
    "bom1['foreign_gross'] = bom1['foreign_gross'].replace({',': ''}, regex=True)\n",
    "\n",
    "# Step 2: Convert the column to numeric values, using 'coerce' to handle errors\n",
    "bom1['foreign_gross'] = pd.to_numeric(bom1['foreign_gross'], errors='coerce')\n",
    "\n",
    "# Step 3: Replace NaN values with the median of the column\n",
    "median_value = bom1['foreign_gross'].median()\n",
    "bom1['foreign_gross'] = bom1['foreign_gross'].fillna(median_value)"
   ]
  },
  {
   "cell_type": "code",
   "execution_count": null,
   "id": "3758589a",
   "metadata": {},
   "outputs": [],
   "source": [
    "bom1"
   ]
  },
  {
   "cell_type": "code",
   "execution_count": null,
   "id": "5a5516b3",
   "metadata": {},
   "outputs": [],
   "source": [
    "#dropping unnecessary columns\n",
    "bom1.drop(['studio'],axis=1,inplace=True)"
   ]
  },
  {
   "cell_type": "code",
   "execution_count": null,
   "id": "52c1cc97",
   "metadata": {},
   "outputs": [],
   "source": [
    "bom1.isnull().sum().any()"
   ]
  },
  {
   "cell_type": "code",
   "execution_count": null,
   "id": "22e993de",
   "metadata": {},
   "outputs": [],
   "source": [
    "bom1"
   ]
  },
  {
   "cell_type": "code",
   "execution_count": null,
   "id": "9944ef7d",
   "metadata": {},
   "outputs": [],
   "source": [
    "#adding a new column\n",
    "bom1[\"total_gross\"]=bom1[\"domestic_gross\"]+bom1[\"foreign_gross\"]\n",
    "bom1"
   ]
  },
  {
   "cell_type": "code",
   "execution_count": null,
   "id": "3039ece1",
   "metadata": {},
   "outputs": [],
   "source": [
    "#changing to currency for uniformity \n",
    "bom1['domestic_gross'] = bom1['domestic_gross'].apply(lambda x: f\"${x:,.2f}\")"
   ]
  },
  {
   "cell_type": "code",
   "execution_count": null,
   "id": "e59a0f70",
   "metadata": {},
   "outputs": [],
   "source": [
    "bom1['foreign_gross'] = bom1['foreign_gross'].apply(lambda x: f\"${x:,.2f}\")"
   ]
  },
  {
   "cell_type": "code",
   "execution_count": null,
   "id": "f79209a2",
   "metadata": {},
   "outputs": [],
   "source": [
    "bom1['total_gross'] = bom1['total_gross'].apply(lambda x: f\"${x:,.2f}\")"
   ]
  },
  {
   "cell_type": "code",
   "execution_count": null,
   "id": "4fe4d615",
   "metadata": {},
   "outputs": [],
   "source": [
    "bom1"
   ]
  },
  {
   "cell_type": "code",
   "execution_count": null,
   "id": "1aaade45",
   "metadata": {},
   "outputs": [],
   "source": [
    "#confirming the changes\n",
    "bom1"
   ]
  },
  {
   "cell_type": "code",
   "execution_count": null,
   "id": "7b653253",
   "metadata": {},
   "outputs": [],
   "source": [
    "#adding the id as the  first column\n",
    "bom1.insert(0, 'id', range(1, len(bom1) + 1))\n"
   ]
  },
  {
   "cell_type": "code",
   "execution_count": null,
   "id": "1ed7735d",
   "metadata": {},
   "outputs": [],
   "source": [
    "bom1"
   ]
  },
  {
   "cell_type": "code",
   "execution_count": null,
   "id": "30cbbc60",
   "metadata": {},
   "outputs": [],
   "source": [
    "#loading the sql database\n",
    "mvsql=sqlite3.connect(\"im.db\")"
   ]
  },
  {
   "cell_type": "code",
   "execution_count": null,
   "id": "983c5ae7",
   "metadata": {},
   "outputs": [],
   "source": [
    "#viewing the tables\n",
    "pd.read_sql(\"SELECT name FROM sqlite_master WHERE type='table';\", mvsql)"
   ]
  },
  {
   "cell_type": "code",
   "execution_count": null,
   "id": "3aaec318",
   "metadata": {},
   "outputs": [],
   "source": [
    "#loading the movie basics table from the sql database\n",
    "mvbas=pd.read_sql(\"\"\"SELECT * FROM movie_basics;\"\"\",mvsql)"
   ]
  },
  {
   "cell_type": "code",
   "execution_count": null,
   "id": "0ed4a5c7",
   "metadata": {},
   "outputs": [],
   "source": [
    "mvbas"
   ]
  },
  {
   "cell_type": "code",
   "execution_count": null,
   "id": "6e63e453",
   "metadata": {},
   "outputs": [],
   "source": [
    "#creating a new copy\n",
    "mvbas1 = mvbas.copy(deep=True)\n",
    "mvbas1"
   ]
  },
  {
   "cell_type": "code",
   "execution_count": null,
   "id": "24b90f31",
   "metadata": {},
   "outputs": [],
   "source": [
    "#dropping unnecesary columns\n",
    "mvbas1.drop([\"original_title\",\"runtime_minutes\"],axis=1,inplace=True)"
   ]
  },
  {
   "cell_type": "code",
   "execution_count": null,
   "id": "c6eb1b35",
   "metadata": {},
   "outputs": [],
   "source": [
    "mvbas1"
   ]
  },
  {
   "cell_type": "code",
   "execution_count": null,
   "id": "33bde251",
   "metadata": {},
   "outputs": [],
   "source": [
    "#renaming columns for uniformity\n",
    "mvbas1.rename(columns={\"movie_id\":'id'},inplace=True)"
   ]
  },
  {
   "cell_type": "code",
   "execution_count": null,
   "id": "9ad5c262",
   "metadata": {},
   "outputs": [],
   "source": [
    "mvbas1.rename(columns={\"start_year\":'year'},inplace=True)"
   ]
  },
  {
   "cell_type": "code",
   "execution_count": null,
   "id": "5d996835",
   "metadata": {},
   "outputs": [],
   "source": [
    "mvbas1.rename(columns={\"primary_title\":'title'},inplace=True)"
   ]
  },
  {
   "cell_type": "code",
   "execution_count": null,
   "id": "0ed6b683",
   "metadata": {},
   "outputs": [],
   "source": [
    "mvbas1"
   ]
  },
  {
   "cell_type": "code",
   "execution_count": null,
   "id": "9cb497ec",
   "metadata": {},
   "outputs": [],
   "source": [
    "#loading the movie rating table\n",
    "mvrat=pd.read_sql(\"\"\"SELECT * FROM movie_ratings;\"\"\",mvsql)"
   ]
  },
  {
   "cell_type": "code",
   "execution_count": null,
   "id": "b556c072",
   "metadata": {},
   "outputs": [],
   "source": [
    "#creating a new copy\n",
    "mvrat1= mvrat.copy(deep=True)"
   ]
  },
  {
   "cell_type": "code",
   "execution_count": null,
   "id": "b6b1ec92",
   "metadata": {},
   "outputs": [],
   "source": [
    "mvrat1"
   ]
  },
  {
   "cell_type": "code",
   "execution_count": null,
   "id": "aeae531c",
   "metadata": {},
   "outputs": [],
   "source": [
    "#dropping unnecessary columns\n",
    "mvrat1.drop([\"numvotes\"],axis=1,inplace=True)"
   ]
  },
  {
   "cell_type": "code",
   "execution_count": null,
   "id": "40ee48d3",
   "metadata": {},
   "outputs": [],
   "source": [
    "#renaming columns\n",
    "mvrat1.rename(columns={\"movie_id\":\"id\"},inplace=True)"
   ]
  },
  {
   "cell_type": "code",
   "execution_count": null,
   "id": "2648b6c6",
   "metadata": {},
   "outputs": [],
   "source": [
    "mvrat1.rename(columns={\"averagerating\":\"average_rating\"},inplace=True)"
   ]
  },
  {
   "cell_type": "code",
   "execution_count": null,
   "id": "3bde3875",
   "metadata": {},
   "outputs": [],
   "source": [
    "mvrat1"
   ]
  },
  {
   "cell_type": "code",
   "execution_count": null,
   "id": "6f7aa982",
   "metadata": {},
   "outputs": [],
   "source": [
    "# Merge tables from the sql which are relatabe specifying same column names (id)\n",
    "merged_movies = pd.merge(mvbas1, mvrat1, left_on='id', right_on='id', how='inner')\n",
    "\n",
    "\n",
    "print(merged_movies)"
   ]
  },
  {
   "cell_type": "code",
   "execution_count": null,
   "id": "20db7a17",
   "metadata": {},
   "outputs": [],
   "source": [
    "#changing into a dataframe\n",
    "merged_movies_df=pd.DataFrame(merged_movies)\n",
    "merged_movies_df"
   ]
  },
  {
   "cell_type": "code",
   "execution_count": null,
   "id": "0f1659ed",
   "metadata": {},
   "outputs": [],
   "source": [
    "#Merging the tm1 dataset(\"tmdb.movies.csv\") to the original merged data set\n",
    "# First merge: Add tmdb1 to the existing merged DataFrame\n",
    "merged_movies_final = pd.merge(merged_movies, tmdb1, on=\"title\", how='inner')\n",
    "\n",
    "# Second merge: Add bom1 to the updated merged DataFrame using the same column name\n",
    "merged_movies_final = pd.merge(merged_movies, bom1, on='title', how='inner')\n",
    "\n",
    "# Check the result\n",
    "print(merged_movies_final.head())\n"
   ]
  },
  {
   "cell_type": "code",
   "execution_count": null,
   "id": "96a25edf",
   "metadata": {},
   "outputs": [],
   "source": [
    "#loading the dataframe\n",
    "merged_movies_final_df=pd.DataFrame(merged_movies_final)\n",
    "merged_movies_final_df"
   ]
  },
  {
   "cell_type": "code",
   "execution_count": null,
   "id": "f692f485",
   "metadata": {},
   "outputs": [],
   "source": [
    "#dropping unecessary/repeated columns for the merged datasets\n",
    "merged_movies_final_df.drop(columns=[\"id_x\",\"year_x\",\"id_y\"],axis=1,inplace=True)"
   ]
  },
  {
   "cell_type": "code",
   "execution_count": null,
   "id": "fb27e7b5",
   "metadata": {},
   "outputs": [],
   "source": [
    "merged_movies_final_df"
   ]
  },
  {
   "cell_type": "code",
   "execution_count": null,
   "id": "ab1385ee",
   "metadata": {},
   "outputs": [],
   "source": [
    "#checking for missing values\n",
    "merged_movies_final_df.isna().sum()"
   ]
  },
  {
   "cell_type": "code",
   "execution_count": null,
   "id": "6ba40525",
   "metadata": {},
   "outputs": [],
   "source": [
    "#filling the missing values\n",
    "for column in merged_movies_final_df.select_dtypes(include=[\"object\"]).columns:\n",
    "    merged_movies_final_df[column].fillna(merged_movies_final_df[column].mode()[0],inplace=True)"
   ]
  },
  {
   "cell_type": "code",
   "execution_count": null,
   "id": "0658e917",
   "metadata": {},
   "outputs": [],
   "source": [
    "#confirming changes\n",
    "merged_movies_final_df.isna().sum()"
   ]
  },
  {
   "cell_type": "code",
   "execution_count": null,
   "id": "8f00d41e",
   "metadata": {},
   "outputs": [],
   "source": [
    "#renaming columns\n",
    "merged_movies_final_df.rename({\"year_y\":\"year\"},axis=1,inplace=True)"
   ]
  },
  {
   "cell_type": "code",
   "execution_count": null,
   "id": "bf8b943c",
   "metadata": {},
   "outputs": [],
   "source": [
    "merged_movies_final_df"
   ]
  },
  {
   "cell_type": "code",
   "execution_count": null,
   "id": "69378ae8",
   "metadata": {},
   "outputs": [],
   "source": [
    "#checking for outliers\n",
    "sns.boxplot(merged_movies_final_df)"
   ]
  },
  {
   "cell_type": "code",
   "execution_count": null,
   "id": "86011d85",
   "metadata": {},
   "outputs": [],
   "source": [
    "#checking if all the necessary data is available\n",
    "merged_movies_final_df.info()"
   ]
  },
  {
   "cell_type": "code",
   "execution_count": null,
   "id": "7e64df1a",
   "metadata": {},
   "outputs": [],
   "source": [
    "#loading the second dataset\n",
    "rt = pd.read_csv(\"rt.movie_info.tsv\",delimiter=\"\\t\")\n",
    "rt"
   ]
  },
  {
   "cell_type": "code",
   "execution_count": null,
   "id": "9bb9f2e0",
   "metadata": {},
   "outputs": [],
   "source": [
    "#creating a copy\n",
    "rt1 =rt.copy(deep=True)\n",
    "rt1"
   ]
  },
  {
   "cell_type": "code",
   "execution_count": null,
   "id": "b28fbf58",
   "metadata": {},
   "outputs": [],
   "source": [
    "#dropping unecessary columns\n",
    "rt1.drop([\"synopsis\",\"writer\",\"dvd_date\",\"currency\",\"runtime\"],axis=1,inplace=True)"
   ]
  },
  {
   "cell_type": "code",
   "execution_count": null,
   "id": "ffce841f",
   "metadata": {},
   "outputs": [],
   "source": [
    "rt1"
   ]
  },
  {
   "cell_type": "code",
   "execution_count": null,
   "id": "d42b7819",
   "metadata": {},
   "outputs": [],
   "source": [
    "#checking for missing values\n",
    "rt1.isna().sum()"
   ]
  },
  {
   "cell_type": "code",
   "execution_count": null,
   "id": "dde414d4",
   "metadata": {},
   "outputs": [],
   "source": [
    "#filling missing values for objects using mode\n",
    "for column in rt1.select_dtypes(include=[\"object\"]).columns:\n",
    "    rt1[column].fillna(rt1[column].mode()[0],inplace=True)"
   ]
  },
  {
   "cell_type": "code",
   "execution_count": null,
   "id": "ff7126c2",
   "metadata": {},
   "outputs": [],
   "source": [
    "#changing the box office values to numerical(box office sales a movie makes after its release)\n",
    "#noted it was not numerical since it gave out an error when trying to fill missing values\n",
    "# Step 1: Remove commas\n",
    "rt1['box_office'] = rt1['box_office'].str.replace(',', '')\n",
    "\n",
    "# Step 2: Convert to integers\n",
    "rt1['box_office'] = rt1['box_office'].astype(int)\n",
    "\n"
   ]
  },
  {
   "cell_type": "code",
   "execution_count": null,
   "id": "3322a47d",
   "metadata": {},
   "outputs": [],
   "source": [
    "#checking for uniformity using a histogram\n",
    "rt1.hist(bins=15,figsize=(5,5));"
   ]
  },
  {
   "cell_type": "code",
   "execution_count": null,
   "id": "ca8ceee5",
   "metadata": {},
   "outputs": [],
   "source": [
    "#filling in the missing values\n",
    "rt1[\"box_office\"]=rt1[\"box_office\"].fillna(rt1[\"box_office\"].median())"
   ]
  },
  {
   "cell_type": "code",
   "execution_count": null,
   "id": "8c2bd95e",
   "metadata": {},
   "outputs": [],
   "source": [
    "#confirming no missing values\n",
    "rt1.isnull().sum().any()"
   ]
  },
  {
   "cell_type": "code",
   "execution_count": null,
   "id": "e5929bbe",
   "metadata": {},
   "outputs": [],
   "source": [
    "rt1"
   ]
  },
  {
   "cell_type": "code",
   "execution_count": null,
   "id": "0ea95a5c",
   "metadata": {},
   "outputs": [],
   "source": [
    "#converting the date time to year only for easier analysis\n",
    "rt1[\"theater_date\"]= pd.to_datetime(rt1[\"theater_date\"]).dt.year"
   ]
  },
  {
   "cell_type": "code",
   "execution_count": null,
   "id": "4195ad23",
   "metadata": {},
   "outputs": [],
   "source": [
    "# Split 'genre' into 'main_genre' and 'supporting_genre', handling NaN values\n",
    "rt1['main_genre'] = rt1['genre'].str.split('|').str[0]\n",
    "rt1['supporting_genre'] = rt1['genre'].str.split('|').apply(\n",
    "    lambda x: '|'.join(x[1:]) if isinstance(x, list) and len(x) > 1 else ''\n",
    ")\n",
    "\n",
    "\n",
    "# Preview the result\n",
    "rt1[['genre', 'main_genre', 'supporting_genre']].head()\n",
    "\n"
   ]
  },
  {
   "cell_type": "code",
   "execution_count": null,
   "id": "db5eb19a",
   "metadata": {},
   "outputs": [],
   "source": [
    "rt1"
   ]
  },
  {
   "cell_type": "code",
   "execution_count": null,
   "id": "1f5111b6",
   "metadata": {},
   "outputs": [],
   "source": [
    "#dropping the unnecessary new column created\n",
    "rt1.drop([\"genre\",\"supporting_genre\"],axis=1,inplace=True)"
   ]
  },
  {
   "cell_type": "code",
   "execution_count": null,
   "id": "4e928544",
   "metadata": {},
   "outputs": [],
   "source": [
    "rt1.rename({\"main_genre\":\"genre\"},axis=1,inplace=True)"
   ]
  },
  {
   "cell_type": "code",
   "execution_count": null,
   "id": "7e5faa41",
   "metadata": {},
   "outputs": [],
   "source": [
    "rt1"
   ]
  },
  {
   "cell_type": "code",
   "execution_count": null,
   "id": "b295c440",
   "metadata": {},
   "outputs": [],
   "source": [
    "merged_movies_final_df.to_csv(\"merged movies.csv\")"
   ]
  },
  {
   "cell_type": "code",
   "execution_count": null,
   "id": "23b34cc2",
   "metadata": {},
   "outputs": [],
   "source": [
    "rt1.to_csv(\"movie ratings.csv\")"
   ]
  },
  {
   "cell_type": "code",
   "execution_count": null,
   "id": "34279b3e",
   "metadata": {},
   "outputs": [],
   "source": [
    "merged_movies_final_df.head()"
   ]
  },
  {
   "cell_type": "code",
   "execution_count": null,
   "id": "2f667f79",
   "metadata": {},
   "outputs": [],
   "source": [
    "rt1.head()"
   ]
  },
  {
   "cell_type": "code",
   "execution_count": null,
   "id": "675ab71b",
   "metadata": {},
   "outputs": [],
   "source": [
    "\n",
    "\n",
    "# Genre vs Rating \n",
    "genre_rating= merged_movies_final_df.groupby(\"genres\")[\"average_rating\"].sum().sort_values(ascending=False).head(10)\n",
    "plt.figure(figsize=(5, 5))\n",
    "sns.barplot(x=genre_rating.index, y=genre_rating.values,palette=\"Blues\")\n",
    "plt.xticks(rotation=45, ha='right')\n",
    "plt.title('Genre vs Rating')\n",
    "plt.show()\n"
   ]
  },
  {
   "cell_type": "code",
   "execution_count": null,
   "id": "e56484bd",
   "metadata": {},
   "outputs": [],
   "source": [
    "#Genre vs Sales\n",
    "genre_sales= merged_movies_final_df.groupby(\"genres\")[\"total_gross\"].sum().sort_values(ascending=False).head(10)\n",
    "plt.figure(figsize=(5, 5))\n",
    "sns.barplot(x=genre_sales.index, y=genre_rating.values,palette=\"Blues\")\n",
    "plt.xticks(rotation=45, ha='right')\n",
    "plt.title('Genre vs Sales')\n",
    "plt.show()"
   ]
  },
  {
   "cell_type": "code",
   "execution_count": null,
   "id": "dcd1a99f",
   "metadata": {},
   "outputs": [],
   "source": [
    "#popular genres based on their count\n",
    "merged_movies_final_df[\"genres\"].value_counts().head(5).plot(kind='bar',figsize=(5,5))\n",
    "sns.set_palette('Blues')\n",
    "plt.title(\"popular genres\")\n",
    "plt.ylabel(\"counts\")\n",
    "plt.xlabel('genre')\n",
    "plt.xticks(rotation=45);"
   ]
  },
  {
   "cell_type": "code",
   "execution_count": null,
   "id": "35bb1e24",
   "metadata": {},
   "outputs": [],
   "source": [
    "#top movies based on genre popularity\n",
    "top_three_movies = merged_movies_final_df[\"title\"].value_counts().head(3).index\n",
    "\n",
    "filtered_data = merged_movies_final_df[merged_movies_final_df[\"title\"].isin(top_three_movies)]\n",
    "\n",
    "top_genres=(\n",
    "    filtered_data.groupby(\"title\")[\"genres\"]\n",
    "    .value_counts()\n",
    "    .groupby(level=0).nlargest(3)\n",
    "    .reset_index(level=0,drop=True)\n",
    "    .index.get_level_values(1)\n",
    ")\n",
    "    \n",
    "filtered_data=filtered_data[filtered_data['genres'].isin(top_genres)]\n",
    "\n",
    "plt.figure(figsize=(5, 5))#select figure size\n",
    "sns.countplot(data=filtered_data, x='title', hue='genres')#selecting type of graph(countplot)\n",
    "plt.title('Top 3 Movies with Top 3 Genres Vs popularity')#title for the graph\n",
    "plt.xlabel('Movie')#x-axis label\n",
    "plt.ylabel('Popularity')#y-axis label\n",
    "plt.legend(title='Genres')#legend title\n",
    "plt.legend(fontsize='small')  # You can use 'small', 'medium', 'large' or specify a number like 8 or 10\n",
    "\n",
    "# Alternatively, you can control the size of the legend box:\n",
    "plt.legend(handlelength=1, fontsize=8)  #\n",
    "plt.show()#visualize the graph\n",
    "\n"
   ]
  },
  {
   "cell_type": "code",
   "execution_count": null,
   "id": "87a39073",
   "metadata": {},
   "outputs": [],
   "source": [
    "#how genre with best rating has faired over the years(univariate analysis)\n",
    "# Filter for the genre of interest\n",
    "genre_of_interest = \"Drama\"\n",
    "drama_df = merged_movies_final_df[merged_movies_final_df['genres'].str.contains(genre_of_interest, na=False)]\n",
    "\n",
    "# Perform univariate analysis: Focus on average ratings over time\n",
    "drama_yearly = drama_df.groupby('year')['average_rating'].mean()\n",
    "\n",
    "# Plotting the univariate trend\n",
    "plt.figure(figsize=(5, 5))\n",
    "drama_yearly.plot(kind='line', marker='o', color='blue')\n",
    "plt.title(f\"Univariate Analysis: Drama Genre Ratings Over the Years\", fontsize=16)\n",
    "plt.xlabel(\"Year\", fontsize=12)\n",
    "plt.ylabel(\"Average Rating\", fontsize=12)\n",
    "plt.grid(visible=True, linestyle='--', alpha=0.6)\n",
    "plt.show()"
   ]
  },
  {
   "cell_type": "code",
   "execution_count": null,
   "id": "b426c84f",
   "metadata": {},
   "outputs": [],
   "source": [
    "#popular directors\n",
    "director_popularity = rt1['director'].value_counts().head(5)\n",
    "plt.figure(figsize=(5,5))\n",
    "sns.barplot(x=director_popularity.index,y=director_popularity.values)\n",
    "plt.title(\"most popular directors\")\n",
    "plt.xlabel(\"director\")\n",
    "plt.ylabel(\"count\")\n",
    "plt.xticks(rotation=45);"
   ]
  },
  {
   "cell_type": "code",
   "execution_count": null,
   "id": "bfa551e6",
   "metadata": {},
   "outputs": [],
   "source": [
    "#best selling directors\n",
    "\n",
    "# Group by director and sum the box office sales\n",
    "director_sales = rt1.groupby(\"director\")[\"box_office\"].sum().sort_values(ascending=False).head(10)\n",
    "\n",
    "# Create the plot\n",
    "plt.figure(figsize=(5, 5))\n",
    "sns.barplot(x=director_sales.values, y=director_sales.index, palette=\"Blues\", orient=\"h\")  # Horizontal bars\n",
    "\n",
    "# Add title and labels\n",
    "plt.xlabel('Box Office Sales')\n",
    "plt.title('Directors vs Sales')\n",
    "\n",
    "# Include x-tick labels (rotate for readability)\n",
    "plt.xticks(rotation=60)\n",
    "\n",
    "# Show the plot\n",
    "plt.show()"
   ]
  },
  {
   "cell_type": "code",
   "execution_count": null,
   "id": "8ff5d398",
   "metadata": {},
   "outputs": [],
   "source": [
    "#popular movie rating\n",
    "rating_popularity = rt1['rating'].value_counts().head(5)\n",
    "plt.figure(figsize=(5,5))\n",
    "sns.barplot(x=rating_popularity.index,y=rating_popularity.values)\n",
    "plt.title(\"most popular movie rating\")\n",
    "plt.xlabel(\"movie rating\")\n",
    "plt.ylabel(\"count\")\n",
    "plt.xticks(rotation=45);"
   ]
  },
  {
   "cell_type": "code",
   "execution_count": null,
   "id": "96a27989",
   "metadata": {},
   "outputs": [],
   "source": [
    "#univariate analysis based on the highest selling director\n",
    "# Filter for the genre of interest\n",
    "highest_director = \"Steven Spielberg\"\n",
    "director_df = rt1[rt1['director'].str.contains(highest_director, na=False)]\n",
    "\n",
    "# Perform univariate analysis: Focus on average ratings over time\n",
    "performance_yearly = director_df.groupby('theater_date')['box_office'].mean()\n",
    "\n",
    "# Plotting the univariate trend\n",
    "plt.figure(figsize=(5, 5))\n",
    "drama_yearly.plot(kind='line', marker='o', color='blue')\n",
    "plt.title(f\"Univariate Analysis: Steven Spielberg's sales Over the Years\", fontsize=16)\n",
    "plt.xlabel(\"Year\", fontsize=12)\n",
    "plt.ylabel(\"Sales\", fontsize=12)\n",
    "plt.grid(visible=True, linestyle='--', alpha=0.6)\n",
    "plt.show()"
   ]
  },
  {
   "cell_type": "code",
   "execution_count": null,
   "id": "60ea9874",
   "metadata": {},
   "outputs": [],
   "source": []
  },
  {
   "cell_type": "code",
   "execution_count": null,
   "id": "4fe4b3ed",
   "metadata": {},
   "outputs": [],
   "source": []
  }
 ],
 "metadata": {
  "kernelspec": {
   "display_name": "Python 3 (ipykernel)",
   "language": "python",
   "name": "python3"
  },
  "language_info": {
   "codemirror_mode": {
    "name": "ipython",
    "version": 3
   },
   "file_extension": ".py",
   "mimetype": "text/x-python",
   "name": "python",
   "nbconvert_exporter": "python",
   "pygments_lexer": "ipython3",
   "version": "3.11.7"
  },
  "toc": {
   "base_numbering": 1,
   "nav_menu": {},
   "number_sections": true,
   "sideBar": true,
   "skip_h1_title": false,
   "title_cell": "Table of Contents",
   "title_sidebar": "Contents",
   "toc_cell": false,
   "toc_position": {},
   "toc_section_display": true,
   "toc_window_display": false
  }
 },
 "nbformat": 4,
 "nbformat_minor": 5
}
