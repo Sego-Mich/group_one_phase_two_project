{
 "cells": [
  {
   "cell_type": "markdown",
   "id": "c528119e",
   "metadata": {},
   "source": [
    "# Business Understanding\n",
    "\n",
    "## Project Overview\n",
    "This project outlines analysis based on movie datasets for business-stakeholders new to the movie industry.\n",
    "\n",
    "## Business problem: \n",
    "Your company now sees all the big companies creating original video content and they want to get in on the fun. They have decided to create a new movie studio, but they don’t know anything about creating movies. You are charged with exploring what types of films are currently doing the best at the box office. You must then translate those findings into actionable insights that the head of your company's new movie studio can use to help decide what type of films to create.\n",
    "## Project objectives: \n",
    "### Main Objective\n",
    "To analyze movie data and uncover patterns in sales, popularity, ratings, and director influence across genres, providing actionable insights for business growth and strategy.\n",
    "\n",
    "### Specific Objectives\n",
    "1. Identify which genres generate the most revenue and analyze trends contributing to their sales performance.\n",
    "   \n",
    "2. Understand which genres are most popular among audiences and explore factors driving their popularity.\n",
    "  `\n",
    "3. Examine the ratings of top genres to evaluate their critical reception.\n",
    "   \n",
    "4. Identify top selling movies with their related genre.\n",
    "\n",
    "5. Determine most popular directors\n",
    "\n",
    "6. Identify the top selling directors\n",
    "\n",
    "7. Idenfity top popular movie ratings\n",
    "    \n",
    "\n",
    "### The Data\n",
    "We used the folder `zippedData` that are movie datasets from the following websites:\n",
    "\n",
    "* [Box Office Mojo](https://www.boxofficemojo.com/)\n",
    "* [IMDB](https://www.imdb.com/)\n",
    "* [Rotten Tomatoes](https://www.rottentomatoes.com/)\n",
    "* [TheMovieDB](https://www.themoviedb.org/)\n",
    "* [The Numbers](https://www.the-numbers.com/)\n",
    "\n",
    "Here are the datasets our crucial for analysis:\n",
    "`bom.movie_gross.csv` , `rt.movie_info.tsv`,`tmdb.movies.csv`\n",
    "a sql database:`im.db`where tables considered were;`movie_basics`, `movie_rating` \n",
    "\n"
   ]
  },
  {
   "cell_type": "markdown",
   "id": "c0b2c0d6",
   "metadata": {},
   "source": [
    "# Data Understanding "
   ]
  },
  {
   "cell_type": "markdown",
   "id": "8fd590f8",
   "metadata": {},
   "source": [
    "Here will need to understand our data. This involves getting the relevant information from each dataset crucial for our analysis. \n",
    "\n",
    "We start by loading the various datasets reviewing their various information based on the columns and check which information is necessary for our analysis before beginning the data cleaning."
   ]
  },
  {
   "cell_type": "code",
   "execution_count": 1,
   "id": "3fc39b88",
   "metadata": {},
   "outputs": [],
   "source": [
    "#importing libraries for data manipulation (pandas, numpy) and visualization (seaborn, matplotlib)\n",
    "\n",
    "import numpy as np\n",
    "import pandas as pd\n",
    "import matplotlib.pyplot as plt\n",
    "import seaborn as sns\n",
    "import sklearn\n",
    "import sqlite3\n",
    "import warnings\n",
    "\n",
    "# Suppress all warnings\n",
    "warnings.filterwarnings('ignore')"
   ]
  },
  {
   "cell_type": "code",
   "execution_count": 2,
   "id": "9bdd9f34",
   "metadata": {},
   "outputs": [],
   "source": [
    "# set the maximum number of columns to 40 to display all columns\n",
    "pd.set_option('display.max_columns', 40)"
   ]
  },
  {
   "cell_type": "markdown",
   "id": "9914e14a",
   "metadata": {},
   "source": [
    "Loading information from <b>rt.movie_info.tsv</b> dataset"
   ]
  },
  {
   "cell_type": "code",
   "execution_count": 3,
   "id": "415bee20",
   "metadata": {},
   "outputs": [
    {
     "data": {
      "text/html": [
       "<div>\n",
       "<style scoped>\n",
       "    .dataframe tbody tr th:only-of-type {\n",
       "        vertical-align: middle;\n",
       "    }\n",
       "\n",
       "    .dataframe tbody tr th {\n",
       "        vertical-align: top;\n",
       "    }\n",
       "\n",
       "    .dataframe thead th {\n",
       "        text-align: right;\n",
       "    }\n",
       "</style>\n",
       "<table border=\"1\" class=\"dataframe\">\n",
       "  <thead>\n",
       "    <tr style=\"text-align: right;\">\n",
       "      <th></th>\n",
       "      <th>id</th>\n",
       "      <th>synopsis</th>\n",
       "      <th>rating</th>\n",
       "      <th>genre</th>\n",
       "      <th>director</th>\n",
       "      <th>writer</th>\n",
       "      <th>theater_date</th>\n",
       "      <th>dvd_date</th>\n",
       "      <th>currency</th>\n",
       "      <th>box_office</th>\n",
       "      <th>runtime</th>\n",
       "      <th>studio</th>\n",
       "    </tr>\n",
       "  </thead>\n",
       "  <tbody>\n",
       "    <tr>\n",
       "      <th>0</th>\n",
       "      <td>1</td>\n",
       "      <td>This gritty, fast-paced, and innovative police...</td>\n",
       "      <td>R</td>\n",
       "      <td>Action and Adventure|Classics|Drama</td>\n",
       "      <td>William Friedkin</td>\n",
       "      <td>Ernest Tidyman</td>\n",
       "      <td>Oct 9, 1971</td>\n",
       "      <td>Sep 25, 2001</td>\n",
       "      <td>NaN</td>\n",
       "      <td>NaN</td>\n",
       "      <td>104 minutes</td>\n",
       "      <td>NaN</td>\n",
       "    </tr>\n",
       "    <tr>\n",
       "      <th>1</th>\n",
       "      <td>3</td>\n",
       "      <td>New York City, not-too-distant-future: Eric Pa...</td>\n",
       "      <td>R</td>\n",
       "      <td>Drama|Science Fiction and Fantasy</td>\n",
       "      <td>David Cronenberg</td>\n",
       "      <td>David Cronenberg|Don DeLillo</td>\n",
       "      <td>Aug 17, 2012</td>\n",
       "      <td>Jan 1, 2013</td>\n",
       "      <td>$</td>\n",
       "      <td>600,000</td>\n",
       "      <td>108 minutes</td>\n",
       "      <td>Entertainment One</td>\n",
       "    </tr>\n",
       "    <tr>\n",
       "      <th>2</th>\n",
       "      <td>5</td>\n",
       "      <td>Illeana Douglas delivers a superb performance ...</td>\n",
       "      <td>R</td>\n",
       "      <td>Drama|Musical and Performing Arts</td>\n",
       "      <td>Allison Anders</td>\n",
       "      <td>Allison Anders</td>\n",
       "      <td>Sep 13, 1996</td>\n",
       "      <td>Apr 18, 2000</td>\n",
       "      <td>NaN</td>\n",
       "      <td>NaN</td>\n",
       "      <td>116 minutes</td>\n",
       "      <td>NaN</td>\n",
       "    </tr>\n",
       "    <tr>\n",
       "      <th>3</th>\n",
       "      <td>6</td>\n",
       "      <td>Michael Douglas runs afoul of a treacherous su...</td>\n",
       "      <td>R</td>\n",
       "      <td>Drama|Mystery and Suspense</td>\n",
       "      <td>Barry Levinson</td>\n",
       "      <td>Paul Attanasio|Michael Crichton</td>\n",
       "      <td>Dec 9, 1994</td>\n",
       "      <td>Aug 27, 1997</td>\n",
       "      <td>NaN</td>\n",
       "      <td>NaN</td>\n",
       "      <td>128 minutes</td>\n",
       "      <td>NaN</td>\n",
       "    </tr>\n",
       "    <tr>\n",
       "      <th>4</th>\n",
       "      <td>7</td>\n",
       "      <td>NaN</td>\n",
       "      <td>NR</td>\n",
       "      <td>Drama|Romance</td>\n",
       "      <td>Rodney Bennett</td>\n",
       "      <td>Giles Cooper</td>\n",
       "      <td>NaN</td>\n",
       "      <td>NaN</td>\n",
       "      <td>NaN</td>\n",
       "      <td>NaN</td>\n",
       "      <td>200 minutes</td>\n",
       "      <td>NaN</td>\n",
       "    </tr>\n",
       "  </tbody>\n",
       "</table>\n",
       "</div>"
      ],
      "text/plain": [
       "   id                                           synopsis rating  \\\n",
       "0   1  This gritty, fast-paced, and innovative police...      R   \n",
       "1   3  New York City, not-too-distant-future: Eric Pa...      R   \n",
       "2   5  Illeana Douglas delivers a superb performance ...      R   \n",
       "3   6  Michael Douglas runs afoul of a treacherous su...      R   \n",
       "4   7                                                NaN     NR   \n",
       "\n",
       "                                 genre          director  \\\n",
       "0  Action and Adventure|Classics|Drama  William Friedkin   \n",
       "1    Drama|Science Fiction and Fantasy  David Cronenberg   \n",
       "2    Drama|Musical and Performing Arts    Allison Anders   \n",
       "3           Drama|Mystery and Suspense    Barry Levinson   \n",
       "4                        Drama|Romance    Rodney Bennett   \n",
       "\n",
       "                            writer  theater_date      dvd_date currency  \\\n",
       "0                   Ernest Tidyman   Oct 9, 1971  Sep 25, 2001      NaN   \n",
       "1     David Cronenberg|Don DeLillo  Aug 17, 2012   Jan 1, 2013        $   \n",
       "2                   Allison Anders  Sep 13, 1996  Apr 18, 2000      NaN   \n",
       "3  Paul Attanasio|Michael Crichton   Dec 9, 1994  Aug 27, 1997      NaN   \n",
       "4                     Giles Cooper           NaN           NaN      NaN   \n",
       "\n",
       "  box_office      runtime             studio  \n",
       "0        NaN  104 minutes                NaN  \n",
       "1    600,000  108 minutes  Entertainment One  \n",
       "2        NaN  116 minutes                NaN  \n",
       "3        NaN  128 minutes                NaN  \n",
       "4        NaN  200 minutes                NaN  "
      ]
     },
     "execution_count": 3,
     "metadata": {},
     "output_type": "execute_result"
    }
   ],
   "source": [
    "#loading the dataset and checking the top five columns\n",
    "movie_df = pd.read_csv('rt.movie_info.tsv', sep='\\t')\n",
    "movie_df.head()"
   ]
  },
  {
   "cell_type": "code",
   "execution_count": 4,
   "id": "2e7b91ad",
   "metadata": {},
   "outputs": [
    {
     "data": {
      "text/plain": [
       "(1560, 12)"
      ]
     },
     "execution_count": 4,
     "metadata": {},
     "output_type": "execute_result"
    }
   ],
   "source": [
    "#checking the shape getting information of the rows and columns\n",
    "movie_df.shape"
   ]
  },
  {
   "cell_type": "code",
   "execution_count": 5,
   "id": "81ecab30",
   "metadata": {},
   "outputs": [
    {
     "name": "stdout",
     "output_type": "stream",
     "text": [
      "<class 'pandas.core.frame.DataFrame'>\n",
      "RangeIndex: 1560 entries, 0 to 1559\n",
      "Data columns (total 12 columns):\n",
      " #   Column        Non-Null Count  Dtype \n",
      "---  ------        --------------  ----- \n",
      " 0   id            1560 non-null   int64 \n",
      " 1   synopsis      1498 non-null   object\n",
      " 2   rating        1557 non-null   object\n",
      " 3   genre         1552 non-null   object\n",
      " 4   director      1361 non-null   object\n",
      " 5   writer        1111 non-null   object\n",
      " 6   theater_date  1201 non-null   object\n",
      " 7   dvd_date      1201 non-null   object\n",
      " 8   currency      340 non-null    object\n",
      " 9   box_office    340 non-null    object\n",
      " 10  runtime       1530 non-null   object\n",
      " 11  studio        494 non-null    object\n",
      "dtypes: int64(1), object(11)\n",
      "memory usage: 146.4+ KB\n"
     ]
    }
   ],
   "source": [
    "#checking information  for each column of the dataset\n",
    "movie_df.info()"
   ]
  },
  {
   "cell_type": "markdown",
   "id": "fa09afc8",
   "metadata": {},
   "source": [
    " Loading the <b> bom.movie_gross.csv</b>"
   ]
  },
  {
   "cell_type": "code",
   "execution_count": 6,
   "id": "33bbeaee",
   "metadata": {},
   "outputs": [],
   "source": [
    "#Loading the dataset \n",
    "gross_df = pd.read_csv(\"bom.movie_gross.csv\")"
   ]
  },
  {
   "cell_type": "code",
   "execution_count": 7,
   "id": "5ec4aac5",
   "metadata": {},
   "outputs": [
    {
     "data": {
      "text/html": [
       "<div>\n",
       "<style scoped>\n",
       "    .dataframe tbody tr th:only-of-type {\n",
       "        vertical-align: middle;\n",
       "    }\n",
       "\n",
       "    .dataframe tbody tr th {\n",
       "        vertical-align: top;\n",
       "    }\n",
       "\n",
       "    .dataframe thead th {\n",
       "        text-align: right;\n",
       "    }\n",
       "</style>\n",
       "<table border=\"1\" class=\"dataframe\">\n",
       "  <thead>\n",
       "    <tr style=\"text-align: right;\">\n",
       "      <th></th>\n",
       "      <th>title</th>\n",
       "      <th>studio</th>\n",
       "      <th>domestic_gross</th>\n",
       "      <th>foreign_gross</th>\n",
       "      <th>year</th>\n",
       "    </tr>\n",
       "  </thead>\n",
       "  <tbody>\n",
       "    <tr>\n",
       "      <th>0</th>\n",
       "      <td>Toy Story 3</td>\n",
       "      <td>BV</td>\n",
       "      <td>415000000.0</td>\n",
       "      <td>652000000</td>\n",
       "      <td>2010</td>\n",
       "    </tr>\n",
       "    <tr>\n",
       "      <th>1</th>\n",
       "      <td>Alice in Wonderland (2010)</td>\n",
       "      <td>BV</td>\n",
       "      <td>334200000.0</td>\n",
       "      <td>691300000</td>\n",
       "      <td>2010</td>\n",
       "    </tr>\n",
       "    <tr>\n",
       "      <th>2</th>\n",
       "      <td>Harry Potter and the Deathly Hallows Part 1</td>\n",
       "      <td>WB</td>\n",
       "      <td>296000000.0</td>\n",
       "      <td>664300000</td>\n",
       "      <td>2010</td>\n",
       "    </tr>\n",
       "    <tr>\n",
       "      <th>3</th>\n",
       "      <td>Inception</td>\n",
       "      <td>WB</td>\n",
       "      <td>292600000.0</td>\n",
       "      <td>535700000</td>\n",
       "      <td>2010</td>\n",
       "    </tr>\n",
       "    <tr>\n",
       "      <th>4</th>\n",
       "      <td>Shrek Forever After</td>\n",
       "      <td>P/DW</td>\n",
       "      <td>238700000.0</td>\n",
       "      <td>513900000</td>\n",
       "      <td>2010</td>\n",
       "    </tr>\n",
       "  </tbody>\n",
       "</table>\n",
       "</div>"
      ],
      "text/plain": [
       "                                         title studio  domestic_gross  \\\n",
       "0                                  Toy Story 3     BV     415000000.0   \n",
       "1                   Alice in Wonderland (2010)     BV     334200000.0   \n",
       "2  Harry Potter and the Deathly Hallows Part 1     WB     296000000.0   \n",
       "3                                    Inception     WB     292600000.0   \n",
       "4                          Shrek Forever After   P/DW     238700000.0   \n",
       "\n",
       "  foreign_gross  year  \n",
       "0     652000000  2010  \n",
       "1     691300000  2010  \n",
       "2     664300000  2010  \n",
       "3     535700000  2010  \n",
       "4     513900000  2010  "
      ]
     },
     "execution_count": 7,
     "metadata": {},
     "output_type": "execute_result"
    }
   ],
   "source": [
    "#checking the top 5 columns\n",
    "gross_df.head()"
   ]
  },
  {
   "cell_type": "code",
   "execution_count": 8,
   "id": "88effa63",
   "metadata": {},
   "outputs": [
    {
     "name": "stdout",
     "output_type": "stream",
     "text": [
      "<class 'pandas.core.frame.DataFrame'>\n",
      "RangeIndex: 3387 entries, 0 to 3386\n",
      "Data columns (total 5 columns):\n",
      " #   Column          Non-Null Count  Dtype  \n",
      "---  ------          --------------  -----  \n",
      " 0   title           3387 non-null   object \n",
      " 1   studio          3382 non-null   object \n",
      " 2   domestic_gross  3359 non-null   float64\n",
      " 3   foreign_gross   2037 non-null   object \n",
      " 4   year            3387 non-null   int64  \n",
      "dtypes: float64(1), int64(1), object(3)\n",
      "memory usage: 132.4+ KB\n"
     ]
    }
   ],
   "source": [
    "#Viewing information for each column\n",
    "gross_df.info()"
   ]
  },
  {
   "cell_type": "code",
   "execution_count": 9,
   "id": "c1ee51a7",
   "metadata": {},
   "outputs": [
    {
     "data": {
      "text/html": [
       "<div>\n",
       "<style scoped>\n",
       "    .dataframe tbody tr th:only-of-type {\n",
       "        vertical-align: middle;\n",
       "    }\n",
       "\n",
       "    .dataframe tbody tr th {\n",
       "        vertical-align: top;\n",
       "    }\n",
       "\n",
       "    .dataframe thead th {\n",
       "        text-align: right;\n",
       "    }\n",
       "</style>\n",
       "<table border=\"1\" class=\"dataframe\">\n",
       "  <thead>\n",
       "    <tr style=\"text-align: right;\">\n",
       "      <th></th>\n",
       "      <th>domestic_gross</th>\n",
       "      <th>year</th>\n",
       "    </tr>\n",
       "  </thead>\n",
       "  <tbody>\n",
       "    <tr>\n",
       "      <th>count</th>\n",
       "      <td>3.359000e+03</td>\n",
       "      <td>3387.000000</td>\n",
       "    </tr>\n",
       "    <tr>\n",
       "      <th>mean</th>\n",
       "      <td>2.874585e+07</td>\n",
       "      <td>2013.958075</td>\n",
       "    </tr>\n",
       "    <tr>\n",
       "      <th>std</th>\n",
       "      <td>6.698250e+07</td>\n",
       "      <td>2.478141</td>\n",
       "    </tr>\n",
       "    <tr>\n",
       "      <th>min</th>\n",
       "      <td>1.000000e+02</td>\n",
       "      <td>2010.000000</td>\n",
       "    </tr>\n",
       "    <tr>\n",
       "      <th>25%</th>\n",
       "      <td>1.200000e+05</td>\n",
       "      <td>2012.000000</td>\n",
       "    </tr>\n",
       "    <tr>\n",
       "      <th>50%</th>\n",
       "      <td>1.400000e+06</td>\n",
       "      <td>2014.000000</td>\n",
       "    </tr>\n",
       "    <tr>\n",
       "      <th>75%</th>\n",
       "      <td>2.790000e+07</td>\n",
       "      <td>2016.000000</td>\n",
       "    </tr>\n",
       "    <tr>\n",
       "      <th>max</th>\n",
       "      <td>9.367000e+08</td>\n",
       "      <td>2018.000000</td>\n",
       "    </tr>\n",
       "  </tbody>\n",
       "</table>\n",
       "</div>"
      ],
      "text/plain": [
       "       domestic_gross         year\n",
       "count    3.359000e+03  3387.000000\n",
       "mean     2.874585e+07  2013.958075\n",
       "std      6.698250e+07     2.478141\n",
       "min      1.000000e+02  2010.000000\n",
       "25%      1.200000e+05  2012.000000\n",
       "50%      1.400000e+06  2014.000000\n",
       "75%      2.790000e+07  2016.000000\n",
       "max      9.367000e+08  2018.000000"
      ]
     },
     "execution_count": 9,
     "metadata": {},
     "output_type": "execute_result"
    }
   ],
   "source": [
    "#checking the statistical information for numerical columns\n",
    "gross_df.describe()"
   ]
  },
  {
   "cell_type": "markdown",
   "id": "de345dba",
   "metadata": {},
   "source": [
    "Loading the <b>tmdb.movies.csv</b> dataset"
   ]
  },
  {
   "cell_type": "code",
   "execution_count": 10,
   "id": "b146fe57",
   "metadata": {},
   "outputs": [
    {
     "data": {
      "text/html": [
       "<div>\n",
       "<style scoped>\n",
       "    .dataframe tbody tr th:only-of-type {\n",
       "        vertical-align: middle;\n",
       "    }\n",
       "\n",
       "    .dataframe tbody tr th {\n",
       "        vertical-align: top;\n",
       "    }\n",
       "\n",
       "    .dataframe thead th {\n",
       "        text-align: right;\n",
       "    }\n",
       "</style>\n",
       "<table border=\"1\" class=\"dataframe\">\n",
       "  <thead>\n",
       "    <tr style=\"text-align: right;\">\n",
       "      <th></th>\n",
       "      <th>Unnamed: 0</th>\n",
       "      <th>genre_ids</th>\n",
       "      <th>id</th>\n",
       "      <th>original_language</th>\n",
       "      <th>original_title</th>\n",
       "      <th>popularity</th>\n",
       "      <th>release_date</th>\n",
       "      <th>title</th>\n",
       "      <th>vote_average</th>\n",
       "      <th>vote_count</th>\n",
       "    </tr>\n",
       "  </thead>\n",
       "  <tbody>\n",
       "    <tr>\n",
       "      <th>0</th>\n",
       "      <td>0</td>\n",
       "      <td>[12, 14, 10751]</td>\n",
       "      <td>12444</td>\n",
       "      <td>en</td>\n",
       "      <td>Harry Potter and the Deathly Hallows: Part 1</td>\n",
       "      <td>33.533</td>\n",
       "      <td>2010-11-19</td>\n",
       "      <td>Harry Potter and the Deathly Hallows: Part 1</td>\n",
       "      <td>7.7</td>\n",
       "      <td>10788</td>\n",
       "    </tr>\n",
       "    <tr>\n",
       "      <th>1</th>\n",
       "      <td>1</td>\n",
       "      <td>[14, 12, 16, 10751]</td>\n",
       "      <td>10191</td>\n",
       "      <td>en</td>\n",
       "      <td>How to Train Your Dragon</td>\n",
       "      <td>28.734</td>\n",
       "      <td>2010-03-26</td>\n",
       "      <td>How to Train Your Dragon</td>\n",
       "      <td>7.7</td>\n",
       "      <td>7610</td>\n",
       "    </tr>\n",
       "    <tr>\n",
       "      <th>2</th>\n",
       "      <td>2</td>\n",
       "      <td>[12, 28, 878]</td>\n",
       "      <td>10138</td>\n",
       "      <td>en</td>\n",
       "      <td>Iron Man 2</td>\n",
       "      <td>28.515</td>\n",
       "      <td>2010-05-07</td>\n",
       "      <td>Iron Man 2</td>\n",
       "      <td>6.8</td>\n",
       "      <td>12368</td>\n",
       "    </tr>\n",
       "    <tr>\n",
       "      <th>3</th>\n",
       "      <td>3</td>\n",
       "      <td>[16, 35, 10751]</td>\n",
       "      <td>862</td>\n",
       "      <td>en</td>\n",
       "      <td>Toy Story</td>\n",
       "      <td>28.005</td>\n",
       "      <td>1995-11-22</td>\n",
       "      <td>Toy Story</td>\n",
       "      <td>7.9</td>\n",
       "      <td>10174</td>\n",
       "    </tr>\n",
       "    <tr>\n",
       "      <th>4</th>\n",
       "      <td>4</td>\n",
       "      <td>[28, 878, 12]</td>\n",
       "      <td>27205</td>\n",
       "      <td>en</td>\n",
       "      <td>Inception</td>\n",
       "      <td>27.920</td>\n",
       "      <td>2010-07-16</td>\n",
       "      <td>Inception</td>\n",
       "      <td>8.3</td>\n",
       "      <td>22186</td>\n",
       "    </tr>\n",
       "  </tbody>\n",
       "</table>\n",
       "</div>"
      ],
      "text/plain": [
       "   Unnamed: 0            genre_ids     id original_language  \\\n",
       "0           0      [12, 14, 10751]  12444                en   \n",
       "1           1  [14, 12, 16, 10751]  10191                en   \n",
       "2           2        [12, 28, 878]  10138                en   \n",
       "3           3      [16, 35, 10751]    862                en   \n",
       "4           4        [28, 878, 12]  27205                en   \n",
       "\n",
       "                                 original_title  popularity release_date  \\\n",
       "0  Harry Potter and the Deathly Hallows: Part 1      33.533   2010-11-19   \n",
       "1                      How to Train Your Dragon      28.734   2010-03-26   \n",
       "2                                    Iron Man 2      28.515   2010-05-07   \n",
       "3                                     Toy Story      28.005   1995-11-22   \n",
       "4                                     Inception      27.920   2010-07-16   \n",
       "\n",
       "                                          title  vote_average  vote_count  \n",
       "0  Harry Potter and the Deathly Hallows: Part 1           7.7       10788  \n",
       "1                      How to Train Your Dragon           7.7        7610  \n",
       "2                                    Iron Man 2           6.8       12368  \n",
       "3                                     Toy Story           7.9       10174  \n",
       "4                                     Inception           8.3       22186  "
      ]
     },
     "execution_count": 10,
     "metadata": {},
     "output_type": "execute_result"
    }
   ],
   "source": [
    "#Loading the dataset and viewing the first five columns\n",
    "tmdb_df = pd.read_csv(\"tmdb.movies.csv\")\n",
    "tmdb_df.head()"
   ]
  },
  {
   "cell_type": "code",
   "execution_count": 11,
   "id": "947b3c7c",
   "metadata": {},
   "outputs": [
    {
     "name": "stdout",
     "output_type": "stream",
     "text": [
      "<class 'pandas.core.frame.DataFrame'>\n",
      "RangeIndex: 26517 entries, 0 to 26516\n",
      "Data columns (total 10 columns):\n",
      " #   Column             Non-Null Count  Dtype  \n",
      "---  ------             --------------  -----  \n",
      " 0   Unnamed: 0         26517 non-null  int64  \n",
      " 1   genre_ids          26517 non-null  object \n",
      " 2   id                 26517 non-null  int64  \n",
      " 3   original_language  26517 non-null  object \n",
      " 4   original_title     26517 non-null  object \n",
      " 5   popularity         26517 non-null  float64\n",
      " 6   release_date       26517 non-null  object \n",
      " 7   title              26517 non-null  object \n",
      " 8   vote_average       26517 non-null  float64\n",
      " 9   vote_count         26517 non-null  int64  \n",
      "dtypes: float64(2), int64(3), object(5)\n",
      "memory usage: 2.0+ MB\n"
     ]
    }
   ],
   "source": [
    "#Checking for information of each column from the dataset\n",
    "tmdb_df.info()"
   ]
  },
  {
   "cell_type": "code",
   "execution_count": 12,
   "id": "bcaff56a",
   "metadata": {},
   "outputs": [
    {
     "data": {
      "text/html": [
       "<div>\n",
       "<style scoped>\n",
       "    .dataframe tbody tr th:only-of-type {\n",
       "        vertical-align: middle;\n",
       "    }\n",
       "\n",
       "    .dataframe tbody tr th {\n",
       "        vertical-align: top;\n",
       "    }\n",
       "\n",
       "    .dataframe thead th {\n",
       "        text-align: right;\n",
       "    }\n",
       "</style>\n",
       "<table border=\"1\" class=\"dataframe\">\n",
       "  <thead>\n",
       "    <tr style=\"text-align: right;\">\n",
       "      <th></th>\n",
       "      <th>Unnamed: 0</th>\n",
       "      <th>id</th>\n",
       "      <th>popularity</th>\n",
       "      <th>vote_average</th>\n",
       "      <th>vote_count</th>\n",
       "    </tr>\n",
       "  </thead>\n",
       "  <tbody>\n",
       "    <tr>\n",
       "      <th>count</th>\n",
       "      <td>26517.00000</td>\n",
       "      <td>26517.000000</td>\n",
       "      <td>26517.000000</td>\n",
       "      <td>26517.000000</td>\n",
       "      <td>26517.000000</td>\n",
       "    </tr>\n",
       "    <tr>\n",
       "      <th>mean</th>\n",
       "      <td>13258.00000</td>\n",
       "      <td>295050.153260</td>\n",
       "      <td>3.130912</td>\n",
       "      <td>5.991281</td>\n",
       "      <td>194.224837</td>\n",
       "    </tr>\n",
       "    <tr>\n",
       "      <th>std</th>\n",
       "      <td>7654.94288</td>\n",
       "      <td>153661.615648</td>\n",
       "      <td>4.355229</td>\n",
       "      <td>1.852946</td>\n",
       "      <td>960.961095</td>\n",
       "    </tr>\n",
       "    <tr>\n",
       "      <th>min</th>\n",
       "      <td>0.00000</td>\n",
       "      <td>27.000000</td>\n",
       "      <td>0.600000</td>\n",
       "      <td>0.000000</td>\n",
       "      <td>1.000000</td>\n",
       "    </tr>\n",
       "    <tr>\n",
       "      <th>25%</th>\n",
       "      <td>6629.00000</td>\n",
       "      <td>157851.000000</td>\n",
       "      <td>0.600000</td>\n",
       "      <td>5.000000</td>\n",
       "      <td>2.000000</td>\n",
       "    </tr>\n",
       "    <tr>\n",
       "      <th>50%</th>\n",
       "      <td>13258.00000</td>\n",
       "      <td>309581.000000</td>\n",
       "      <td>1.374000</td>\n",
       "      <td>6.000000</td>\n",
       "      <td>5.000000</td>\n",
       "    </tr>\n",
       "    <tr>\n",
       "      <th>75%</th>\n",
       "      <td>19887.00000</td>\n",
       "      <td>419542.000000</td>\n",
       "      <td>3.694000</td>\n",
       "      <td>7.000000</td>\n",
       "      <td>28.000000</td>\n",
       "    </tr>\n",
       "    <tr>\n",
       "      <th>max</th>\n",
       "      <td>26516.00000</td>\n",
       "      <td>608444.000000</td>\n",
       "      <td>80.773000</td>\n",
       "      <td>10.000000</td>\n",
       "      <td>22186.000000</td>\n",
       "    </tr>\n",
       "  </tbody>\n",
       "</table>\n",
       "</div>"
      ],
      "text/plain": [
       "        Unnamed: 0             id    popularity  vote_average    vote_count\n",
       "count  26517.00000   26517.000000  26517.000000  26517.000000  26517.000000\n",
       "mean   13258.00000  295050.153260      3.130912      5.991281    194.224837\n",
       "std     7654.94288  153661.615648      4.355229      1.852946    960.961095\n",
       "min        0.00000      27.000000      0.600000      0.000000      1.000000\n",
       "25%     6629.00000  157851.000000      0.600000      5.000000      2.000000\n",
       "50%    13258.00000  309581.000000      1.374000      6.000000      5.000000\n",
       "75%    19887.00000  419542.000000      3.694000      7.000000     28.000000\n",
       "max    26516.00000  608444.000000     80.773000     10.000000  22186.000000"
      ]
     },
     "execution_count": 12,
     "metadata": {},
     "output_type": "execute_result"
    }
   ],
   "source": [
    "#Viewing the statistical information\n",
    "tmdb_df.describe()"
   ]
  },
  {
   "cell_type": "markdown",
   "id": "9a6fffff",
   "metadata": {},
   "source": [
    "Connecting to the SQL database"
   ]
  },
  {
   "cell_type": "code",
   "execution_count": 13,
   "id": "f869e57c",
   "metadata": {},
   "outputs": [],
   "source": [
    "#connecting to the sql database\n",
    "conn = sqlite3.Connection('im.db')\n"
   ]
  },
  {
   "cell_type": "code",
   "execution_count": 14,
   "id": "14ab3fad",
   "metadata": {},
   "outputs": [
    {
     "name": "stdout",
     "output_type": "stream",
     "text": [
      "[('movie_basics',), ('directors',), ('known_for',), ('movie_akas',), ('movie_ratings',), ('persons',), ('principals',), ('writers',)]\n"
     ]
    }
   ],
   "source": [
    "#getting table names\n",
    "cursor = conn.cursor()\n",
    "cursor.execute(\"\"\"SELECT name\n",
    "    FROM sqlite_master\n",
    "    WHERE type = 'table';\"\"\")\n",
    "print(cursor.fetchall())"
   ]
  },
  {
   "cell_type": "code",
   "execution_count": 15,
   "id": "b7f70577",
   "metadata": {},
   "outputs": [],
   "source": [
    "#Loading the movie basics table\n",
    "mbasics_df = pd.read_sql(\"\"\"SELECT * FROM movie_basics;\"\"\",conn)"
   ]
  },
  {
   "cell_type": "code",
   "execution_count": 16,
   "id": "f756844f",
   "metadata": {},
   "outputs": [
    {
     "data": {
      "text/html": [
       "<div>\n",
       "<style scoped>\n",
       "    .dataframe tbody tr th:only-of-type {\n",
       "        vertical-align: middle;\n",
       "    }\n",
       "\n",
       "    .dataframe tbody tr th {\n",
       "        vertical-align: top;\n",
       "    }\n",
       "\n",
       "    .dataframe thead th {\n",
       "        text-align: right;\n",
       "    }\n",
       "</style>\n",
       "<table border=\"1\" class=\"dataframe\">\n",
       "  <thead>\n",
       "    <tr style=\"text-align: right;\">\n",
       "      <th></th>\n",
       "      <th>movie_id</th>\n",
       "      <th>primary_title</th>\n",
       "      <th>original_title</th>\n",
       "      <th>start_year</th>\n",
       "      <th>runtime_minutes</th>\n",
       "      <th>genres</th>\n",
       "    </tr>\n",
       "  </thead>\n",
       "  <tbody>\n",
       "    <tr>\n",
       "      <th>0</th>\n",
       "      <td>tt0063540</td>\n",
       "      <td>Sunghursh</td>\n",
       "      <td>Sunghursh</td>\n",
       "      <td>2013</td>\n",
       "      <td>175.0</td>\n",
       "      <td>Action,Crime,Drama</td>\n",
       "    </tr>\n",
       "    <tr>\n",
       "      <th>1</th>\n",
       "      <td>tt0066787</td>\n",
       "      <td>One Day Before the Rainy Season</td>\n",
       "      <td>Ashad Ka Ek Din</td>\n",
       "      <td>2019</td>\n",
       "      <td>114.0</td>\n",
       "      <td>Biography,Drama</td>\n",
       "    </tr>\n",
       "    <tr>\n",
       "      <th>2</th>\n",
       "      <td>tt0069049</td>\n",
       "      <td>The Other Side of the Wind</td>\n",
       "      <td>The Other Side of the Wind</td>\n",
       "      <td>2018</td>\n",
       "      <td>122.0</td>\n",
       "      <td>Drama</td>\n",
       "    </tr>\n",
       "    <tr>\n",
       "      <th>3</th>\n",
       "      <td>tt0069204</td>\n",
       "      <td>Sabse Bada Sukh</td>\n",
       "      <td>Sabse Bada Sukh</td>\n",
       "      <td>2018</td>\n",
       "      <td>NaN</td>\n",
       "      <td>Comedy,Drama</td>\n",
       "    </tr>\n",
       "    <tr>\n",
       "      <th>4</th>\n",
       "      <td>tt0100275</td>\n",
       "      <td>The Wandering Soap Opera</td>\n",
       "      <td>La Telenovela Errante</td>\n",
       "      <td>2017</td>\n",
       "      <td>80.0</td>\n",
       "      <td>Comedy,Drama,Fantasy</td>\n",
       "    </tr>\n",
       "  </tbody>\n",
       "</table>\n",
       "</div>"
      ],
      "text/plain": [
       "    movie_id                    primary_title              original_title  \\\n",
       "0  tt0063540                        Sunghursh                   Sunghursh   \n",
       "1  tt0066787  One Day Before the Rainy Season             Ashad Ka Ek Din   \n",
       "2  tt0069049       The Other Side of the Wind  The Other Side of the Wind   \n",
       "3  tt0069204                  Sabse Bada Sukh             Sabse Bada Sukh   \n",
       "4  tt0100275         The Wandering Soap Opera       La Telenovela Errante   \n",
       "\n",
       "   start_year  runtime_minutes                genres  \n",
       "0        2013            175.0    Action,Crime,Drama  \n",
       "1        2019            114.0       Biography,Drama  \n",
       "2        2018            122.0                 Drama  \n",
       "3        2018              NaN          Comedy,Drama  \n",
       "4        2017             80.0  Comedy,Drama,Fantasy  "
      ]
     },
     "execution_count": 16,
     "metadata": {},
     "output_type": "execute_result"
    }
   ],
   "source": [
    "#Checking the top five columns\n",
    "mbasics_df.head()"
   ]
  },
  {
   "cell_type": "code",
   "execution_count": 17,
   "id": "74e0f552",
   "metadata": {},
   "outputs": [
    {
     "name": "stdout",
     "output_type": "stream",
     "text": [
      "<class 'pandas.core.frame.DataFrame'>\n",
      "RangeIndex: 146144 entries, 0 to 146143\n",
      "Data columns (total 6 columns):\n",
      " #   Column           Non-Null Count   Dtype  \n",
      "---  ------           --------------   -----  \n",
      " 0   movie_id         146144 non-null  object \n",
      " 1   primary_title    146144 non-null  object \n",
      " 2   original_title   146123 non-null  object \n",
      " 3   start_year       146144 non-null  int64  \n",
      " 4   runtime_minutes  114405 non-null  float64\n",
      " 5   genres           140736 non-null  object \n",
      "dtypes: float64(1), int64(1), object(4)\n",
      "memory usage: 6.7+ MB\n"
     ]
    }
   ],
   "source": [
    "#Checking for the information of each column\n",
    "mbasics_df.info()"
   ]
  },
  {
   "cell_type": "code",
   "execution_count": 18,
   "id": "7c10c706",
   "metadata": {},
   "outputs": [],
   "source": [
    "#Loading the the movie_ratings table from the database\n",
    "rating_df = pd.read_sql(\"\"\"SELECT * FROM movie_ratings;\"\"\",conn)"
   ]
  },
  {
   "cell_type": "code",
   "execution_count": 19,
   "id": "540cb3fb",
   "metadata": {},
   "outputs": [
    {
     "data": {
      "text/html": [
       "<div>\n",
       "<style scoped>\n",
       "    .dataframe tbody tr th:only-of-type {\n",
       "        vertical-align: middle;\n",
       "    }\n",
       "\n",
       "    .dataframe tbody tr th {\n",
       "        vertical-align: top;\n",
       "    }\n",
       "\n",
       "    .dataframe thead th {\n",
       "        text-align: right;\n",
       "    }\n",
       "</style>\n",
       "<table border=\"1\" class=\"dataframe\">\n",
       "  <thead>\n",
       "    <tr style=\"text-align: right;\">\n",
       "      <th></th>\n",
       "      <th>movie_id</th>\n",
       "      <th>averagerating</th>\n",
       "      <th>numvotes</th>\n",
       "    </tr>\n",
       "  </thead>\n",
       "  <tbody>\n",
       "    <tr>\n",
       "      <th>0</th>\n",
       "      <td>tt10356526</td>\n",
       "      <td>8.3</td>\n",
       "      <td>31</td>\n",
       "    </tr>\n",
       "    <tr>\n",
       "      <th>1</th>\n",
       "      <td>tt10384606</td>\n",
       "      <td>8.9</td>\n",
       "      <td>559</td>\n",
       "    </tr>\n",
       "    <tr>\n",
       "      <th>2</th>\n",
       "      <td>tt1042974</td>\n",
       "      <td>6.4</td>\n",
       "      <td>20</td>\n",
       "    </tr>\n",
       "    <tr>\n",
       "      <th>3</th>\n",
       "      <td>tt1043726</td>\n",
       "      <td>4.2</td>\n",
       "      <td>50352</td>\n",
       "    </tr>\n",
       "    <tr>\n",
       "      <th>4</th>\n",
       "      <td>tt1060240</td>\n",
       "      <td>6.5</td>\n",
       "      <td>21</td>\n",
       "    </tr>\n",
       "  </tbody>\n",
       "</table>\n",
       "</div>"
      ],
      "text/plain": [
       "     movie_id  averagerating  numvotes\n",
       "0  tt10356526            8.3        31\n",
       "1  tt10384606            8.9       559\n",
       "2   tt1042974            6.4        20\n",
       "3   tt1043726            4.2     50352\n",
       "4   tt1060240            6.5        21"
      ]
     },
     "execution_count": 19,
     "metadata": {},
     "output_type": "execute_result"
    }
   ],
   "source": [
    "#Checking the top 5 columns\n",
    "rating_df.head()"
   ]
  },
  {
   "cell_type": "code",
   "execution_count": 20,
   "id": "1524ca2f",
   "metadata": {},
   "outputs": [
    {
     "name": "stdout",
     "output_type": "stream",
     "text": [
      "<class 'pandas.core.frame.DataFrame'>\n",
      "RangeIndex: 73856 entries, 0 to 73855\n",
      "Data columns (total 3 columns):\n",
      " #   Column         Non-Null Count  Dtype  \n",
      "---  ------         --------------  -----  \n",
      " 0   movie_id       73856 non-null  object \n",
      " 1   averagerating  73856 non-null  float64\n",
      " 2   numvotes       73856 non-null  int64  \n",
      "dtypes: float64(1), int64(1), object(1)\n",
      "memory usage: 1.7+ MB\n"
     ]
    }
   ],
   "source": [
    "#Chcecking for the information from each column\n",
    "rating_df.info()"
   ]
  },
  {
   "cell_type": "code",
   "execution_count": 21,
   "id": "5dbc7bce",
   "metadata": {},
   "outputs": [
    {
     "data": {
      "text/html": [
       "<div>\n",
       "<style scoped>\n",
       "    .dataframe tbody tr th:only-of-type {\n",
       "        vertical-align: middle;\n",
       "    }\n",
       "\n",
       "    .dataframe tbody tr th {\n",
       "        vertical-align: top;\n",
       "    }\n",
       "\n",
       "    .dataframe thead th {\n",
       "        text-align: right;\n",
       "    }\n",
       "</style>\n",
       "<table border=\"1\" class=\"dataframe\">\n",
       "  <thead>\n",
       "    <tr style=\"text-align: right;\">\n",
       "      <th></th>\n",
       "      <th>averagerating</th>\n",
       "      <th>numvotes</th>\n",
       "    </tr>\n",
       "  </thead>\n",
       "  <tbody>\n",
       "    <tr>\n",
       "      <th>count</th>\n",
       "      <td>73856.000000</td>\n",
       "      <td>7.385600e+04</td>\n",
       "    </tr>\n",
       "    <tr>\n",
       "      <th>mean</th>\n",
       "      <td>6.332729</td>\n",
       "      <td>3.523662e+03</td>\n",
       "    </tr>\n",
       "    <tr>\n",
       "      <th>std</th>\n",
       "      <td>1.474978</td>\n",
       "      <td>3.029402e+04</td>\n",
       "    </tr>\n",
       "    <tr>\n",
       "      <th>min</th>\n",
       "      <td>1.000000</td>\n",
       "      <td>5.000000e+00</td>\n",
       "    </tr>\n",
       "    <tr>\n",
       "      <th>25%</th>\n",
       "      <td>5.500000</td>\n",
       "      <td>1.400000e+01</td>\n",
       "    </tr>\n",
       "    <tr>\n",
       "      <th>50%</th>\n",
       "      <td>6.500000</td>\n",
       "      <td>4.900000e+01</td>\n",
       "    </tr>\n",
       "    <tr>\n",
       "      <th>75%</th>\n",
       "      <td>7.400000</td>\n",
       "      <td>2.820000e+02</td>\n",
       "    </tr>\n",
       "    <tr>\n",
       "      <th>max</th>\n",
       "      <td>10.000000</td>\n",
       "      <td>1.841066e+06</td>\n",
       "    </tr>\n",
       "  </tbody>\n",
       "</table>\n",
       "</div>"
      ],
      "text/plain": [
       "       averagerating      numvotes\n",
       "count   73856.000000  7.385600e+04\n",
       "mean        6.332729  3.523662e+03\n",
       "std         1.474978  3.029402e+04\n",
       "min         1.000000  5.000000e+00\n",
       "25%         5.500000  1.400000e+01\n",
       "50%         6.500000  4.900000e+01\n",
       "75%         7.400000  2.820000e+02\n",
       "max        10.000000  1.841066e+06"
      ]
     },
     "execution_count": 21,
     "metadata": {},
     "output_type": "execute_result"
    }
   ],
   "source": [
    "#checking for the statistical information\n",
    "rating_df.describe()"
   ]
  },
  {
   "cell_type": "code",
   "execution_count": 22,
   "id": "35b15ad5",
   "metadata": {},
   "outputs": [],
   "source": [
    "directors_df = pd.read_sql(\"\"\"SELECT * FROM directors;\"\"\",conn)"
   ]
  },
  {
   "cell_type": "code",
   "execution_count": 23,
   "id": "f46b269f",
   "metadata": {},
   "outputs": [
    {
     "data": {
      "text/html": [
       "<div>\n",
       "<style scoped>\n",
       "    .dataframe tbody tr th:only-of-type {\n",
       "        vertical-align: middle;\n",
       "    }\n",
       "\n",
       "    .dataframe tbody tr th {\n",
       "        vertical-align: top;\n",
       "    }\n",
       "\n",
       "    .dataframe thead th {\n",
       "        text-align: right;\n",
       "    }\n",
       "</style>\n",
       "<table border=\"1\" class=\"dataframe\">\n",
       "  <thead>\n",
       "    <tr style=\"text-align: right;\">\n",
       "      <th></th>\n",
       "      <th>movie_id</th>\n",
       "      <th>person_id</th>\n",
       "    </tr>\n",
       "  </thead>\n",
       "  <tbody>\n",
       "    <tr>\n",
       "      <th>0</th>\n",
       "      <td>tt0285252</td>\n",
       "      <td>nm0899854</td>\n",
       "    </tr>\n",
       "    <tr>\n",
       "      <th>1</th>\n",
       "      <td>tt0462036</td>\n",
       "      <td>nm1940585</td>\n",
       "    </tr>\n",
       "    <tr>\n",
       "      <th>2</th>\n",
       "      <td>tt0835418</td>\n",
       "      <td>nm0151540</td>\n",
       "    </tr>\n",
       "    <tr>\n",
       "      <th>3</th>\n",
       "      <td>tt0835418</td>\n",
       "      <td>nm0151540</td>\n",
       "    </tr>\n",
       "    <tr>\n",
       "      <th>4</th>\n",
       "      <td>tt0878654</td>\n",
       "      <td>nm0089502</td>\n",
       "    </tr>\n",
       "  </tbody>\n",
       "</table>\n",
       "</div>"
      ],
      "text/plain": [
       "    movie_id  person_id\n",
       "0  tt0285252  nm0899854\n",
       "1  tt0462036  nm1940585\n",
       "2  tt0835418  nm0151540\n",
       "3  tt0835418  nm0151540\n",
       "4  tt0878654  nm0089502"
      ]
     },
     "execution_count": 23,
     "metadata": {},
     "output_type": "execute_result"
    }
   ],
   "source": [
    "directors_df.head()"
   ]
  },
  {
   "cell_type": "code",
   "execution_count": 24,
   "id": "b82b7ee7",
   "metadata": {},
   "outputs": [
    {
     "data": {
      "text/html": [
       "<div>\n",
       "<style scoped>\n",
       "    .dataframe tbody tr th:only-of-type {\n",
       "        vertical-align: middle;\n",
       "    }\n",
       "\n",
       "    .dataframe tbody tr th {\n",
       "        vertical-align: top;\n",
       "    }\n",
       "\n",
       "    .dataframe thead th {\n",
       "        text-align: right;\n",
       "    }\n",
       "</style>\n",
       "<table border=\"1\" class=\"dataframe\">\n",
       "  <thead>\n",
       "    <tr style=\"text-align: right;\">\n",
       "      <th></th>\n",
       "      <th>movie_id</th>\n",
       "      <th>person_id</th>\n",
       "    </tr>\n",
       "  </thead>\n",
       "  <tbody>\n",
       "    <tr>\n",
       "      <th>291169</th>\n",
       "      <td>tt8999974</td>\n",
       "      <td>nm10122357</td>\n",
       "    </tr>\n",
       "    <tr>\n",
       "      <th>291170</th>\n",
       "      <td>tt9001390</td>\n",
       "      <td>nm6711477</td>\n",
       "    </tr>\n",
       "    <tr>\n",
       "      <th>291171</th>\n",
       "      <td>tt9001494</td>\n",
       "      <td>nm10123242</td>\n",
       "    </tr>\n",
       "    <tr>\n",
       "      <th>291172</th>\n",
       "      <td>tt9001494</td>\n",
       "      <td>nm10123248</td>\n",
       "    </tr>\n",
       "    <tr>\n",
       "      <th>291173</th>\n",
       "      <td>tt9004986</td>\n",
       "      <td>nm4993825</td>\n",
       "    </tr>\n",
       "  </tbody>\n",
       "</table>\n",
       "</div>"
      ],
      "text/plain": [
       "         movie_id   person_id\n",
       "291169  tt8999974  nm10122357\n",
       "291170  tt9001390   nm6711477\n",
       "291171  tt9001494  nm10123242\n",
       "291172  tt9001494  nm10123248\n",
       "291173  tt9004986   nm4993825"
      ]
     },
     "execution_count": 24,
     "metadata": {},
     "output_type": "execute_result"
    }
   ],
   "source": [
    "directors_df.tail()"
   ]
  },
  {
   "cell_type": "code",
   "execution_count": 25,
   "id": "e771f4d6",
   "metadata": {},
   "outputs": [
    {
     "name": "stdout",
     "output_type": "stream",
     "text": [
      "<class 'pandas.core.frame.DataFrame'>\n",
      "RangeIndex: 291174 entries, 0 to 291173\n",
      "Data columns (total 2 columns):\n",
      " #   Column     Non-Null Count   Dtype \n",
      "---  ------     --------------   ----- \n",
      " 0   movie_id   291174 non-null  object\n",
      " 1   person_id  291174 non-null  object\n",
      "dtypes: object(2)\n",
      "memory usage: 4.4+ MB\n"
     ]
    }
   ],
   "source": [
    "directors_df.info()"
   ]
  },
  {
   "cell_type": "markdown",
   "id": "08c95e4d",
   "metadata": {},
   "source": [
    "## Data Cleaning"
   ]
  },
  {
   "cell_type": "markdown",
   "id": "94e09bc4",
   "metadata": {},
   "source": [
    "After looking into our dataset and reviewing what categorical and numerical data we will require we begin our data cleaning process by:\n",
    "1. Dropping columns unecessary for our analysis\n",
    "2. Checking for missing values\n",
    "3. Rectifying column arrangement and uniformity\n",
    "4. Checking for outliers\n",
    "5. Dropping duplicates\n",
    "6. Changing the data types"
   ]
  },
  {
   "cell_type": "markdown",
   "id": "377acca5",
   "metadata": {},
   "source": [
    "## Cleaning for the movie_df dataset"
   ]
  },
  {
   "cell_type": "markdown",
   "id": "5e0e9c1e",
   "metadata": {},
   "source": [
    "### Dropping unecessary columns "
   ]
  },
  {
   "cell_type": "code",
   "execution_count": 26,
   "id": "6424433d",
   "metadata": {},
   "outputs": [],
   "source": [
    "# drop those columns with more than 1000 non-null rows\n",
    "movie_df = movie_df.drop(['currency', 'studio','writer','synopsis','runtime','dvd_date'],axis=1)"
   ]
  },
  {
   "cell_type": "markdown",
   "id": "0aa132e0",
   "metadata": {},
   "source": [
    "### Checking for missing values "
   ]
  },
  {
   "cell_type": "code",
   "execution_count": 27,
   "id": "ad7bc34f",
   "metadata": {},
   "outputs": [
    {
     "data": {
      "text/plain": [
       "id                 0\n",
       "rating             3\n",
       "genre              8\n",
       "director         199\n",
       "theater_date     359\n",
       "box_office      1220\n",
       "dtype: int64"
      ]
     },
     "execution_count": 27,
     "metadata": {},
     "output_type": "execute_result"
    }
   ],
   "source": [
    "#Checking for missing values in each column\n",
    "movie_df.isna().sum()"
   ]
  },
  {
   "cell_type": "code",
   "execution_count": 28,
   "id": "3b071d5c",
   "metadata": {},
   "outputs": [
    {
     "data": {
      "text/plain": [
       "0"
      ]
     },
     "execution_count": 28,
     "metadata": {},
     "output_type": "execute_result"
    }
   ],
   "source": [
    "#replacing movie genre nulls with mode and confirming the changes\n",
    "genre_mode = movie_df.genre.mode()[0]\n",
    "movie_df.genre.fillna(genre_mode, inplace=True)\n",
    "movie_df.genre.isna().sum()"
   ]
  },
  {
   "cell_type": "code",
   "execution_count": 29,
   "id": "74c26abb",
   "metadata": {},
   "outputs": [
    {
     "data": {
      "text/plain": [
       "0"
      ]
     },
     "execution_count": 29,
     "metadata": {},
     "output_type": "execute_result"
    }
   ],
   "source": [
    "#replacing movie rating nulls with mode\n",
    "rating_mode = movie_df.rating.mode()[0]\n",
    "movie_df.rating.fillna(rating_mode, inplace=True)\n",
    "movie_df.rating.isna().sum()"
   ]
  },
  {
   "cell_type": "code",
   "execution_count": 30,
   "id": "838aedf9",
   "metadata": {},
   "outputs": [],
   "source": [
    "#drop the rest with nulls\n",
    "movie_df.dropna(inplace=True)\n"
   ]
  },
  {
   "cell_type": "code",
   "execution_count": 31,
   "id": "ce5014e3",
   "metadata": {},
   "outputs": [
    {
     "data": {
      "text/plain": [
       "False"
      ]
     },
     "execution_count": 31,
     "metadata": {},
     "output_type": "execute_result"
    }
   ],
   "source": [
    "#Confirming that there are no null values \n",
    "movie_df.isnull().sum().any()"
   ]
  },
  {
   "cell_type": "code",
   "execution_count": 32,
   "id": "f90162b1",
   "metadata": {},
   "outputs": [],
   "source": [
    "#Renaming columns\n",
    "movie_df.rename(columns={'theater_date':'year'},inplace=True)"
   ]
  },
  {
   "cell_type": "code",
   "execution_count": 33,
   "id": "5f57a950",
   "metadata": {},
   "outputs": [],
   "source": [
    "#changing the box office values to numerical(box office sales a movie makes after its release)\n",
    "#noted it was not numerical since it gave out an error when trying to fill missing values\n",
    "# Step 1: Remove commas\n",
    "movie_df['box_office'] = movie_df['box_office'].str.replace(',', '')\n",
    "\n",
    "# Step 2: Convert to integers\n",
    "movie_df['box_office'] = movie_df['box_office'].astype(int)"
   ]
  },
  {
   "cell_type": "code",
   "execution_count": 34,
   "id": "f4cbf7f3",
   "metadata": {},
   "outputs": [
    {
     "data": {
      "text/html": [
       "<div>\n",
       "<style scoped>\n",
       "    .dataframe tbody tr th:only-of-type {\n",
       "        vertical-align: middle;\n",
       "    }\n",
       "\n",
       "    .dataframe tbody tr th {\n",
       "        vertical-align: top;\n",
       "    }\n",
       "\n",
       "    .dataframe thead th {\n",
       "        text-align: right;\n",
       "    }\n",
       "</style>\n",
       "<table border=\"1\" class=\"dataframe\">\n",
       "  <thead>\n",
       "    <tr style=\"text-align: right;\">\n",
       "      <th></th>\n",
       "      <th>id</th>\n",
       "      <th>rating</th>\n",
       "      <th>genre</th>\n",
       "      <th>director</th>\n",
       "      <th>year</th>\n",
       "      <th>box_office</th>\n",
       "    </tr>\n",
       "  </thead>\n",
       "  <tbody>\n",
       "    <tr>\n",
       "      <th>1</th>\n",
       "      <td>3</td>\n",
       "      <td>R</td>\n",
       "      <td>Drama|Science Fiction and Fantasy</td>\n",
       "      <td>David Cronenberg</td>\n",
       "      <td>Aug 17, 2012</td>\n",
       "      <td>600000</td>\n",
       "    </tr>\n",
       "    <tr>\n",
       "      <th>6</th>\n",
       "      <td>10</td>\n",
       "      <td>PG-13</td>\n",
       "      <td>Comedy</td>\n",
       "      <td>Jake Kasdan</td>\n",
       "      <td>Jan 11, 2002</td>\n",
       "      <td>41032915</td>\n",
       "    </tr>\n",
       "    <tr>\n",
       "      <th>7</th>\n",
       "      <td>13</td>\n",
       "      <td>R</td>\n",
       "      <td>Drama</td>\n",
       "      <td>Ray Lawrence</td>\n",
       "      <td>Apr 27, 2006</td>\n",
       "      <td>224114</td>\n",
       "    </tr>\n",
       "    <tr>\n",
       "      <th>8</th>\n",
       "      <td>14</td>\n",
       "      <td>R</td>\n",
       "      <td>Drama</td>\n",
       "      <td>Taylor Hackford</td>\n",
       "      <td>Jun 30, 2010</td>\n",
       "      <td>134904</td>\n",
       "    </tr>\n",
       "    <tr>\n",
       "      <th>15</th>\n",
       "      <td>22</td>\n",
       "      <td>R</td>\n",
       "      <td>Comedy|Drama|Mystery and Suspense</td>\n",
       "      <td>George Hickenlooper</td>\n",
       "      <td>Dec 17, 2010</td>\n",
       "      <td>1039869</td>\n",
       "    </tr>\n",
       "  </tbody>\n",
       "</table>\n",
       "</div>"
      ],
      "text/plain": [
       "    id rating                              genre             director  \\\n",
       "1    3      R  Drama|Science Fiction and Fantasy     David Cronenberg   \n",
       "6   10  PG-13                             Comedy          Jake Kasdan   \n",
       "7   13      R                              Drama         Ray Lawrence   \n",
       "8   14      R                              Drama      Taylor Hackford   \n",
       "15  22      R  Comedy|Drama|Mystery and Suspense  George Hickenlooper   \n",
       "\n",
       "            year  box_office  \n",
       "1   Aug 17, 2012      600000  \n",
       "6   Jan 11, 2002    41032915  \n",
       "7   Apr 27, 2006      224114  \n",
       "8   Jun 30, 2010      134904  \n",
       "15  Dec 17, 2010     1039869  "
      ]
     },
     "execution_count": 34,
     "metadata": {},
     "output_type": "execute_result"
    }
   ],
   "source": [
    "#Confirming changes to the dataset\n",
    "movie_df.head()"
   ]
  },
  {
   "cell_type": "markdown",
   "id": "1cbe4393",
   "metadata": {},
   "source": [
    "## Cleaning for the gross_df dataset"
   ]
  },
  {
   "cell_type": "code",
   "execution_count": 35,
   "id": "fdcbcba9",
   "metadata": {},
   "outputs": [],
   "source": [
    "#Dropping unnecessary columns\n",
    "gross_df.drop([\"studio\"],axis=1,inplace=True)"
   ]
  },
  {
   "cell_type": "markdown",
   "id": "62a2620f",
   "metadata": {},
   "source": [
    "### Checking for missing values"
   ]
  },
  {
   "cell_type": "code",
   "execution_count": 36,
   "id": "8a39c5f8",
   "metadata": {},
   "outputs": [
    {
     "data": {
      "text/plain": [
       "title                0\n",
       "domestic_gross      28\n",
       "foreign_gross     1350\n",
       "year                 0\n",
       "dtype: int64"
      ]
     },
     "execution_count": 36,
     "metadata": {},
     "output_type": "execute_result"
    }
   ],
   "source": [
    "#checking for any missng values\n",
    "gross_df.isna().sum()"
   ]
  },
  {
   "cell_type": "code",
   "execution_count": 37,
   "id": "402df00f",
   "metadata": {},
   "outputs": [
    {
     "data": {
      "image/png": "[encoded data removed]",
      "text/plain": [
       "<Figure size 500x500 with 2 Axes>"
      ]
     },
     "metadata": {},
     "output_type": "display_data"
    }
   ],
   "source": [
    "#checking for the distribution for the numerical values\n",
    "gross_df.hist(bins=15,figsize=(5,5));"
   ]
  },
  {
   "cell_type": "markdown",
   "id": "7d0a7b15",
   "metadata": {},
   "source": [
    "From the histograms we noticed the foreign_gross column is not numerical so we change its data type to float as shown below:"
   ]
  },
  {
   "cell_type": "code",
   "execution_count": 38,
   "id": "16d33802",
   "metadata": {},
   "outputs": [],
   "source": [
    "# converting 'foreign_gross' to float \n",
    "gross_df['foreign_gross'] = pd.to_numeric(gross_df['foreign_gross'],errors='coerce')"
   ]
  },
  {
   "cell_type": "code",
   "execution_count": 39,
   "id": "e792a4dc",
   "metadata": {},
   "outputs": [
    {
     "data": {
      "image/png": "[encoded data removed]",
      "text/plain": [
       "<Figure size 600x600 with 4 Axes>"
      ]
     },
     "metadata": {},
     "output_type": "display_data"
    }
   ],
   "source": [
    "#confirming the changes \n",
    "gross_df.hist(bins=15,figsize=(6,6));"
   ]
  },
  {
   "cell_type": "markdown",
   "id": "79d7fecd",
   "metadata": {},
   "source": [
    "We notice that the distribution has skewness hence we use median to fill in the missing values"
   ]
  },
  {
   "cell_type": "code",
   "execution_count": 40,
   "id": "4c724e0d",
   "metadata": {},
   "outputs": [],
   "source": [
    "#replacing gross for domestic and foreign with median\n",
    "gross_df[\"domestic_gross\"]=gross_df[\"domestic_gross\"].fillna(gross_df[\"domestic_gross\"].median())\n",
    "\n",
    "gross_df['foreign_gross'] = gross_df['foreign_gross'].fillna(gross_df['foreign_gross'].median())"
   ]
  },
  {
   "cell_type": "code",
   "execution_count": 41,
   "id": "47772a9f",
   "metadata": {},
   "outputs": [
    {
     "data": {
      "text/html": [
       "<div>\n",
       "<style scoped>\n",
       "    .dataframe tbody tr th:only-of-type {\n",
       "        vertical-align: middle;\n",
       "    }\n",
       "\n",
       "    .dataframe tbody tr th {\n",
       "        vertical-align: top;\n",
       "    }\n",
       "\n",
       "    .dataframe thead th {\n",
       "        text-align: right;\n",
       "    }\n",
       "</style>\n",
       "<table border=\"1\" class=\"dataframe\">\n",
       "  <thead>\n",
       "    <tr style=\"text-align: right;\">\n",
       "      <th></th>\n",
       "      <th>domestic_gross</th>\n",
       "      <th>foreign_gross</th>\n",
       "      <th>total_gross</th>\n",
       "    </tr>\n",
       "  </thead>\n",
       "  <tbody>\n",
       "    <tr>\n",
       "      <th>0</th>\n",
       "      <td>415000000.0</td>\n",
       "      <td>652000000.0</td>\n",
       "      <td>1.067000e+09</td>\n",
       "    </tr>\n",
       "    <tr>\n",
       "      <th>1</th>\n",
       "      <td>334200000.0</td>\n",
       "      <td>691300000.0</td>\n",
       "      <td>1.025500e+09</td>\n",
       "    </tr>\n",
       "    <tr>\n",
       "      <th>2</th>\n",
       "      <td>296000000.0</td>\n",
       "      <td>664300000.0</td>\n",
       "      <td>9.603000e+08</td>\n",
       "    </tr>\n",
       "    <tr>\n",
       "      <th>3</th>\n",
       "      <td>292600000.0</td>\n",
       "      <td>535700000.0</td>\n",
       "      <td>8.283000e+08</td>\n",
       "    </tr>\n",
       "    <tr>\n",
       "      <th>4</th>\n",
       "      <td>238700000.0</td>\n",
       "      <td>513900000.0</td>\n",
       "      <td>7.526000e+08</td>\n",
       "    </tr>\n",
       "  </tbody>\n",
       "</table>\n",
       "</div>"
      ],
      "text/plain": [
       "   domestic_gross  foreign_gross   total_gross\n",
       "0     415000000.0    652000000.0  1.067000e+09\n",
       "1     334200000.0    691300000.0  1.025500e+09\n",
       "2     296000000.0    664300000.0  9.603000e+08\n",
       "3     292600000.0    535700000.0  8.283000e+08\n",
       "4     238700000.0    513900000.0  7.526000e+08"
      ]
     },
     "execution_count": 41,
     "metadata": {},
     "output_type": "execute_result"
    }
   ],
   "source": [
    "# calculating 'total_gross' as the sum of 'domestic_gross' and 'foreign_gross'\n",
    "gross_df['total_gross'] = gross_df['domestic_gross'] + gross_df['foreign_gross']\n",
    "\n",
    "gross_df[['domestic_gross', 'foreign_gross', 'total_gross']].head()"
   ]
  },
  {
   "cell_type": "code",
   "execution_count": 42,
   "id": "aaa9208d",
   "metadata": {},
   "outputs": [
    {
     "data": {
      "text/plain": [
       "False"
      ]
     },
     "execution_count": 42,
     "metadata": {},
     "output_type": "execute_result"
    }
   ],
   "source": [
    "#drop the rest with nulls\n",
    "gross_df.dropna(inplace=True)\n",
    "#confirming there are no null values \n",
    "gross_df.isnull().sum().any()"
   ]
  },
  {
   "cell_type": "code",
   "execution_count": 43,
   "id": "688c2ebe",
   "metadata": {},
   "outputs": [],
   "source": [
    "#Changing the numerical columns to currency for uniformity\n",
    "\n",
    "gross_df['domestic_gross'] = gross_df['domestic_gross'].apply(lambda x: f\"${x:,.2f}\")\n",
    "\n",
    "gross_df['foreign_gross'] = gross_df['foreign_gross'].apply(lambda x: f\"${x:,.2f}\")\n",
    "\n",
    "gross_df['total_gross'] = gross_df['total_gross'].apply(lambda x: f\"${x:,.2f}\")"
   ]
  },
  {
   "cell_type": "code",
   "execution_count": 44,
   "id": "32c55169",
   "metadata": {},
   "outputs": [],
   "source": [
    "#adding the id as the  first column\n",
    "gross_df.insert(0, 'id', range(1, len(gross_df) + 1))\n"
   ]
  },
  {
   "cell_type": "code",
   "execution_count": 45,
   "id": "27cd8920",
   "metadata": {},
   "outputs": [
    {
     "data": {
      "text/html": [
       "<div>\n",
       "<style scoped>\n",
       "    .dataframe tbody tr th:only-of-type {\n",
       "        vertical-align: middle;\n",
       "    }\n",
       "\n",
       "    .dataframe tbody tr th {\n",
       "        vertical-align: top;\n",
       "    }\n",
       "\n",
       "    .dataframe thead th {\n",
       "        text-align: right;\n",
       "    }\n",
       "</style>\n",
       "<table border=\"1\" class=\"dataframe\">\n",
       "  <thead>\n",
       "    <tr style=\"text-align: right;\">\n",
       "      <th></th>\n",
       "      <th>id</th>\n",
       "      <th>title</th>\n",
       "      <th>domestic_gross</th>\n",
       "      <th>foreign_gross</th>\n",
       "      <th>year</th>\n",
       "      <th>total_gross</th>\n",
       "    </tr>\n",
       "  </thead>\n",
       "  <tbody>\n",
       "    <tr>\n",
       "      <th>0</th>\n",
       "      <td>1</td>\n",
       "      <td>Toy Story 3</td>\n",
       "      <td>$415,000,000.00</td>\n",
       "      <td>$652,000,000.00</td>\n",
       "      <td>2010</td>\n",
       "      <td>$1,067,000,000.00</td>\n",
       "    </tr>\n",
       "    <tr>\n",
       "      <th>1</th>\n",
       "      <td>2</td>\n",
       "      <td>Alice in Wonderland (2010)</td>\n",
       "      <td>$334,200,000.00</td>\n",
       "      <td>$691,300,000.00</td>\n",
       "      <td>2010</td>\n",
       "      <td>$1,025,500,000.00</td>\n",
       "    </tr>\n",
       "    <tr>\n",
       "      <th>2</th>\n",
       "      <td>3</td>\n",
       "      <td>Harry Potter and the Deathly Hallows Part 1</td>\n",
       "      <td>$296,000,000.00</td>\n",
       "      <td>$664,300,000.00</td>\n",
       "      <td>2010</td>\n",
       "      <td>$960,300,000.00</td>\n",
       "    </tr>\n",
       "    <tr>\n",
       "      <th>3</th>\n",
       "      <td>4</td>\n",
       "      <td>Inception</td>\n",
       "      <td>$292,600,000.00</td>\n",
       "      <td>$535,700,000.00</td>\n",
       "      <td>2010</td>\n",
       "      <td>$828,300,000.00</td>\n",
       "    </tr>\n",
       "    <tr>\n",
       "      <th>4</th>\n",
       "      <td>5</td>\n",
       "      <td>Shrek Forever After</td>\n",
       "      <td>$238,700,000.00</td>\n",
       "      <td>$513,900,000.00</td>\n",
       "      <td>2010</td>\n",
       "      <td>$752,600,000.00</td>\n",
       "    </tr>\n",
       "  </tbody>\n",
       "</table>\n",
       "</div>"
      ],
      "text/plain": [
       "   id                                        title   domestic_gross  \\\n",
       "0   1                                  Toy Story 3  $415,000,000.00   \n",
       "1   2                   Alice in Wonderland (2010)  $334,200,000.00   \n",
       "2   3  Harry Potter and the Deathly Hallows Part 1  $296,000,000.00   \n",
       "3   4                                    Inception  $292,600,000.00   \n",
       "4   5                          Shrek Forever After  $238,700,000.00   \n",
       "\n",
       "     foreign_gross  year        total_gross  \n",
       "0  $652,000,000.00  2010  $1,067,000,000.00  \n",
       "1  $691,300,000.00  2010  $1,025,500,000.00  \n",
       "2  $664,300,000.00  2010    $960,300,000.00  \n",
       "3  $535,700,000.00  2010    $828,300,000.00  \n",
       "4  $513,900,000.00  2010    $752,600,000.00  "
      ]
     },
     "execution_count": 45,
     "metadata": {},
     "output_type": "execute_result"
    }
   ],
   "source": [
    "gross_df.head()"
   ]
  },
  {
   "cell_type": "markdown",
   "id": "6135e31f",
   "metadata": {},
   "source": [
    "## Cleaning for the tmdb_df dataset"
   ]
  },
  {
   "cell_type": "markdown",
   "id": "4d9e1070",
   "metadata": {},
   "source": [
    "### Dropping columns"
   ]
  },
  {
   "cell_type": "code",
   "execution_count": 46,
   "id": "161547c2",
   "metadata": {},
   "outputs": [],
   "source": [
    "#Dropping the unecessary columns\n",
    "tmdb_df.drop([\"vote_average\",\"vote_count\",\"genre_ids\",\"id\",'original_language',\"original_title\"], axis=1,inplace=True)"
   ]
  },
  {
   "cell_type": "markdown",
   "id": "c009fe2e",
   "metadata": {},
   "source": [
    "### Checking for missing values"
   ]
  },
  {
   "cell_type": "code",
   "execution_count": 47,
   "id": "440e88a0",
   "metadata": {},
   "outputs": [
    {
     "data": {
      "text/plain": [
       "Unnamed: 0      0\n",
       "popularity      0\n",
       "release_date    0\n",
       "title           0\n",
       "dtype: int64"
      ]
     },
     "execution_count": 47,
     "metadata": {},
     "output_type": "execute_result"
    }
   ],
   "source": [
    "#Checking for the missing values\n",
    "tmdb_df.isna().sum()"
   ]
  },
  {
   "cell_type": "code",
   "execution_count": 48,
   "id": "3fabda66",
   "metadata": {},
   "outputs": [
    {
     "data": {
      "text/html": [
       "<div>\n",
       "<style scoped>\n",
       "    .dataframe tbody tr th:only-of-type {\n",
       "        vertical-align: middle;\n",
       "    }\n",
       "\n",
       "    .dataframe tbody tr th {\n",
       "        vertical-align: top;\n",
       "    }\n",
       "\n",
       "    .dataframe thead th {\n",
       "        text-align: right;\n",
       "    }\n",
       "</style>\n",
       "<table border=\"1\" class=\"dataframe\">\n",
       "  <thead>\n",
       "    <tr style=\"text-align: right;\">\n",
       "      <th></th>\n",
       "      <th>Unnamed: 0</th>\n",
       "      <th>popularity</th>\n",
       "      <th>release_date</th>\n",
       "      <th>title</th>\n",
       "    </tr>\n",
       "  </thead>\n",
       "  <tbody>\n",
       "    <tr>\n",
       "      <th>0</th>\n",
       "      <td>0</td>\n",
       "      <td>33.533</td>\n",
       "      <td>2010-11-19</td>\n",
       "      <td>Harry Potter and the Deathly Hallows: Part 1</td>\n",
       "    </tr>\n",
       "    <tr>\n",
       "      <th>1</th>\n",
       "      <td>1</td>\n",
       "      <td>28.734</td>\n",
       "      <td>2010-03-26</td>\n",
       "      <td>How to Train Your Dragon</td>\n",
       "    </tr>\n",
       "    <tr>\n",
       "      <th>2</th>\n",
       "      <td>2</td>\n",
       "      <td>28.515</td>\n",
       "      <td>2010-05-07</td>\n",
       "      <td>Iron Man 2</td>\n",
       "    </tr>\n",
       "    <tr>\n",
       "      <th>3</th>\n",
       "      <td>3</td>\n",
       "      <td>28.005</td>\n",
       "      <td>1995-11-22</td>\n",
       "      <td>Toy Story</td>\n",
       "    </tr>\n",
       "    <tr>\n",
       "      <th>4</th>\n",
       "      <td>4</td>\n",
       "      <td>27.920</td>\n",
       "      <td>2010-07-16</td>\n",
       "      <td>Inception</td>\n",
       "    </tr>\n",
       "  </tbody>\n",
       "</table>\n",
       "</div>"
      ],
      "text/plain": [
       "   Unnamed: 0  popularity release_date  \\\n",
       "0           0      33.533   2010-11-19   \n",
       "1           1      28.734   2010-03-26   \n",
       "2           2      28.515   2010-05-07   \n",
       "3           3      28.005   1995-11-22   \n",
       "4           4      27.920   2010-07-16   \n",
       "\n",
       "                                          title  \n",
       "0  Harry Potter and the Deathly Hallows: Part 1  \n",
       "1                      How to Train Your Dragon  \n",
       "2                                    Iron Man 2  \n",
       "3                                     Toy Story  \n",
       "4                                     Inception  "
      ]
     },
     "execution_count": 48,
     "metadata": {},
     "output_type": "execute_result"
    }
   ],
   "source": [
    "tmdb_df.head()"
   ]
  },
  {
   "cell_type": "markdown",
   "id": "3f8b55fd",
   "metadata": {},
   "source": [
    "### Changing Columns"
   ]
  },
  {
   "cell_type": "code",
   "execution_count": 49,
   "id": "2c69534c",
   "metadata": {},
   "outputs": [],
   "source": [
    "# Renaming columns in tmdb_df\n",
    "tmdb_df.rename(columns={'Unnamed: 0': 'id'},inplace=True)\n",
    "\n",
    "tmdb_df.rename(columns={'release_date':'year'},inplace=True)\n",
    "\n"
   ]
  },
  {
   "cell_type": "code",
   "execution_count": 50,
   "id": "21f4747d",
   "metadata": {},
   "outputs": [
    {
     "data": {
      "text/html": [
       "<div>\n",
       "<style scoped>\n",
       "    .dataframe tbody tr th:only-of-type {\n",
       "        vertical-align: middle;\n",
       "    }\n",
       "\n",
       "    .dataframe tbody tr th {\n",
       "        vertical-align: top;\n",
       "    }\n",
       "\n",
       "    .dataframe thead th {\n",
       "        text-align: right;\n",
       "    }\n",
       "</style>\n",
       "<table border=\"1\" class=\"dataframe\">\n",
       "  <thead>\n",
       "    <tr style=\"text-align: right;\">\n",
       "      <th></th>\n",
       "      <th>id</th>\n",
       "      <th>popularity</th>\n",
       "      <th>year</th>\n",
       "      <th>title</th>\n",
       "    </tr>\n",
       "  </thead>\n",
       "  <tbody>\n",
       "    <tr>\n",
       "      <th>0</th>\n",
       "      <td>0</td>\n",
       "      <td>33.533</td>\n",
       "      <td>2010-11-19</td>\n",
       "      <td>Harry Potter and the Deathly Hallows: Part 1</td>\n",
       "    </tr>\n",
       "    <tr>\n",
       "      <th>1</th>\n",
       "      <td>1</td>\n",
       "      <td>28.734</td>\n",
       "      <td>2010-03-26</td>\n",
       "      <td>How to Train Your Dragon</td>\n",
       "    </tr>\n",
       "    <tr>\n",
       "      <th>2</th>\n",
       "      <td>2</td>\n",
       "      <td>28.515</td>\n",
       "      <td>2010-05-07</td>\n",
       "      <td>Iron Man 2</td>\n",
       "    </tr>\n",
       "    <tr>\n",
       "      <th>3</th>\n",
       "      <td>3</td>\n",
       "      <td>28.005</td>\n",
       "      <td>1995-11-22</td>\n",
       "      <td>Toy Story</td>\n",
       "    </tr>\n",
       "    <tr>\n",
       "      <th>4</th>\n",
       "      <td>4</td>\n",
       "      <td>27.920</td>\n",
       "      <td>2010-07-16</td>\n",
       "      <td>Inception</td>\n",
       "    </tr>\n",
       "  </tbody>\n",
       "</table>\n",
       "</div>"
      ],
      "text/plain": [
       "   id  popularity        year                                         title\n",
       "0   0      33.533  2010-11-19  Harry Potter and the Deathly Hallows: Part 1\n",
       "1   1      28.734  2010-03-26                      How to Train Your Dragon\n",
       "2   2      28.515  2010-05-07                                    Iron Man 2\n",
       "3   3      28.005  1995-11-22                                     Toy Story\n",
       "4   4      27.920  2010-07-16                                     Inception"
      ]
     },
     "execution_count": 50,
     "metadata": {},
     "output_type": "execute_result"
    }
   ],
   "source": [
    "tmdb_df.head()"
   ]
  },
  {
   "cell_type": "markdown",
   "id": "40684a42",
   "metadata": {},
   "source": [
    "## Cleaning for mbasic_df dataset"
   ]
  },
  {
   "cell_type": "markdown",
   "id": "d4ef8a70",
   "metadata": {},
   "source": [
    "### Dropping columns"
   ]
  },
  {
   "cell_type": "code",
   "execution_count": 51,
   "id": "f84ea90f",
   "metadata": {},
   "outputs": [],
   "source": [
    "#Dropping  columns unnecessary for our analysis\n",
    "mbasics_df.drop([\"original_title\",\"runtime_minutes\"],axis=1,inplace=True)"
   ]
  },
  {
   "cell_type": "markdown",
   "id": "4465bd32",
   "metadata": {},
   "source": [
    "### Checking for missing values"
   ]
  },
  {
   "cell_type": "code",
   "execution_count": 52,
   "id": "5e186b2a",
   "metadata": {},
   "outputs": [
    {
     "data": {
      "text/plain": [
       "<bound method Series.any of movie_id            0\n",
       "primary_title       0\n",
       "start_year          0\n",
       "genres           5408\n",
       "dtype: int64>"
      ]
     },
     "execution_count": 52,
     "metadata": {},
     "output_type": "execute_result"
    }
   ],
   "source": [
    "#Checking missing values\n",
    "mbasics_df.isnull().sum().any"
   ]
  },
  {
   "cell_type": "code",
   "execution_count": 53,
   "id": "ea9d82be",
   "metadata": {},
   "outputs": [],
   "source": [
    "#Filling the missiing values for the genres columns which is an object\n",
    "for column in mbasics_df.select_dtypes(include=[\"object\"]).columns:\n",
    "    mbasics_df[column].fillna(mbasics_df[column].mode()[0],inplace=True)"
   ]
  },
  {
   "cell_type": "code",
   "execution_count": 54,
   "id": "8f7e60e2",
   "metadata": {},
   "outputs": [
    {
     "data": {
      "text/plain": [
       "False"
      ]
     },
     "execution_count": 54,
     "metadata": {},
     "output_type": "execute_result"
    }
   ],
   "source": [
    "#Confirming for no missing values\n",
    "mbasics_df.isnull().sum().any()"
   ]
  },
  {
   "cell_type": "markdown",
   "id": "451ba646",
   "metadata": {},
   "source": [
    "### Renaming columns"
   ]
  },
  {
   "cell_type": "code",
   "execution_count": 55,
   "id": "4abb60f2",
   "metadata": {},
   "outputs": [],
   "source": [
    "#Renaming the columns\n",
    "mbasics_df.rename(columns={\"movie_id\":'id'},inplace=True)\n",
    "\n",
    "mbasics_df.rename(columns={\"start_year\":'year'},inplace=True)\n",
    "\n",
    "mbasics_df.rename(columns={\"primary_title\":'title'},inplace=True)\n"
   ]
  },
  {
   "cell_type": "code",
   "execution_count": 56,
   "id": "c1556655",
   "metadata": {},
   "outputs": [
    {
     "data": {
      "text/html": [
       "<div>\n",
       "<style scoped>\n",
       "    .dataframe tbody tr th:only-of-type {\n",
       "        vertical-align: middle;\n",
       "    }\n",
       "\n",
       "    .dataframe tbody tr th {\n",
       "        vertical-align: top;\n",
       "    }\n",
       "\n",
       "    .dataframe thead th {\n",
       "        text-align: right;\n",
       "    }\n",
       "</style>\n",
       "<table border=\"1\" class=\"dataframe\">\n",
       "  <thead>\n",
       "    <tr style=\"text-align: right;\">\n",
       "      <th></th>\n",
       "      <th>id</th>\n",
       "      <th>title</th>\n",
       "      <th>year</th>\n",
       "      <th>genres</th>\n",
       "    </tr>\n",
       "  </thead>\n",
       "  <tbody>\n",
       "    <tr>\n",
       "      <th>0</th>\n",
       "      <td>tt0063540</td>\n",
       "      <td>Sunghursh</td>\n",
       "      <td>2013</td>\n",
       "      <td>Action,Crime,Drama</td>\n",
       "    </tr>\n",
       "    <tr>\n",
       "      <th>1</th>\n",
       "      <td>tt0066787</td>\n",
       "      <td>One Day Before the Rainy Season</td>\n",
       "      <td>2019</td>\n",
       "      <td>Biography,Drama</td>\n",
       "    </tr>\n",
       "    <tr>\n",
       "      <th>2</th>\n",
       "      <td>tt0069049</td>\n",
       "      <td>The Other Side of the Wind</td>\n",
       "      <td>2018</td>\n",
       "      <td>Drama</td>\n",
       "    </tr>\n",
       "    <tr>\n",
       "      <th>3</th>\n",
       "      <td>tt0069204</td>\n",
       "      <td>Sabse Bada Sukh</td>\n",
       "      <td>2018</td>\n",
       "      <td>Comedy,Drama</td>\n",
       "    </tr>\n",
       "    <tr>\n",
       "      <th>4</th>\n",
       "      <td>tt0100275</td>\n",
       "      <td>The Wandering Soap Opera</td>\n",
       "      <td>2017</td>\n",
       "      <td>Comedy,Drama,Fantasy</td>\n",
       "    </tr>\n",
       "  </tbody>\n",
       "</table>\n",
       "</div>"
      ],
      "text/plain": [
       "          id                            title  year                genres\n",
       "0  tt0063540                        Sunghursh  2013    Action,Crime,Drama\n",
       "1  tt0066787  One Day Before the Rainy Season  2019       Biography,Drama\n",
       "2  tt0069049       The Other Side of the Wind  2018                 Drama\n",
       "3  tt0069204                  Sabse Bada Sukh  2018          Comedy,Drama\n",
       "4  tt0100275         The Wandering Soap Opera  2017  Comedy,Drama,Fantasy"
      ]
     },
     "execution_count": 56,
     "metadata": {},
     "output_type": "execute_result"
    }
   ],
   "source": [
    "mbasics_df.head()"
   ]
  },
  {
   "cell_type": "markdown",
   "id": "a7a440ca",
   "metadata": {},
   "source": [
    "## Cleaning for the rating_df dataset"
   ]
  },
  {
   "cell_type": "markdown",
   "id": "39db3033",
   "metadata": {},
   "source": [
    "### Dropping unnecessary columns"
   ]
  },
  {
   "cell_type": "code",
   "execution_count": 57,
   "id": "3c1d11ef",
   "metadata": {},
   "outputs": [],
   "source": [
    "#Dropping unecessary columns\n",
    "rating_df.drop([\"numvotes\"],axis=1,inplace=True)"
   ]
  },
  {
   "cell_type": "markdown",
   "id": "fe3c3714",
   "metadata": {},
   "source": [
    "### Checking for missing values"
   ]
  },
  {
   "cell_type": "code",
   "execution_count": 58,
   "id": "48106ec5",
   "metadata": {},
   "outputs": [
    {
     "data": {
      "text/plain": [
       "False"
      ]
     },
     "execution_count": 58,
     "metadata": {},
     "output_type": "execute_result"
    }
   ],
   "source": [
    "#Checking for missing values\n",
    "rating_df.isnull().sum().any()"
   ]
  },
  {
   "cell_type": "code",
   "execution_count": 59,
   "id": "472ee8d0",
   "metadata": {},
   "outputs": [],
   "source": [
    "#Renaming columns\n",
    "rating_df.rename(columns={\"movie_id\":\"id\"},inplace=True)\n",
    "\n",
    "rating_df.rename(columns={\"averagerating\":\"average_rating\"},inplace=True)"
   ]
  },
  {
   "cell_type": "code",
   "execution_count": 60,
   "id": "5651d993",
   "metadata": {},
   "outputs": [
    {
     "data": {
      "text/html": [
       "<div>\n",
       "<style scoped>\n",
       "    .dataframe tbody tr th:only-of-type {\n",
       "        vertical-align: middle;\n",
       "    }\n",
       "\n",
       "    .dataframe tbody tr th {\n",
       "        vertical-align: top;\n",
       "    }\n",
       "\n",
       "    .dataframe thead th {\n",
       "        text-align: right;\n",
       "    }\n",
       "</style>\n",
       "<table border=\"1\" class=\"dataframe\">\n",
       "  <thead>\n",
       "    <tr style=\"text-align: right;\">\n",
       "      <th></th>\n",
       "      <th>id</th>\n",
       "      <th>average_rating</th>\n",
       "    </tr>\n",
       "  </thead>\n",
       "  <tbody>\n",
       "    <tr>\n",
       "      <th>0</th>\n",
       "      <td>tt10356526</td>\n",
       "      <td>8.3</td>\n",
       "    </tr>\n",
       "    <tr>\n",
       "      <th>1</th>\n",
       "      <td>tt10384606</td>\n",
       "      <td>8.9</td>\n",
       "    </tr>\n",
       "    <tr>\n",
       "      <th>2</th>\n",
       "      <td>tt1042974</td>\n",
       "      <td>6.4</td>\n",
       "    </tr>\n",
       "    <tr>\n",
       "      <th>3</th>\n",
       "      <td>tt1043726</td>\n",
       "      <td>4.2</td>\n",
       "    </tr>\n",
       "    <tr>\n",
       "      <th>4</th>\n",
       "      <td>tt1060240</td>\n",
       "      <td>6.5</td>\n",
       "    </tr>\n",
       "  </tbody>\n",
       "</table>\n",
       "</div>"
      ],
      "text/plain": [
       "           id  average_rating\n",
       "0  tt10356526             8.3\n",
       "1  tt10384606             8.9\n",
       "2   tt1042974             6.4\n",
       "3   tt1043726             4.2\n",
       "4   tt1060240             6.5"
      ]
     },
     "execution_count": 60,
     "metadata": {},
     "output_type": "execute_result"
    }
   ],
   "source": [
    "rating_df.head()"
   ]
  },
  {
   "cell_type": "markdown",
   "id": "7ad26176",
   "metadata": {},
   "source": [
    "### Checking Duplicates"
   ]
  },
  {
   "cell_type": "code",
   "execution_count": 61,
   "id": "85856a5e",
   "metadata": {},
   "outputs": [
    {
     "data": {
      "text/plain": [
       "0"
      ]
     },
     "execution_count": 61,
     "metadata": {},
     "output_type": "execute_result"
    }
   ],
   "source": [
    "#Checking for dupicates for movie_df\n",
    "movie_df.duplicated().sum()"
   ]
  },
  {
   "cell_type": "code",
   "execution_count": 62,
   "id": "33984c70",
   "metadata": {},
   "outputs": [
    {
     "data": {
      "text/plain": [
       "0"
      ]
     },
     "execution_count": 62,
     "metadata": {},
     "output_type": "execute_result"
    }
   ],
   "source": [
    "#Checking for dupicates for gross_df\n",
    "gross_df.duplicated().sum()"
   ]
  },
  {
   "cell_type": "code",
   "execution_count": 63,
   "id": "1afea0a3",
   "metadata": {},
   "outputs": [
    {
     "data": {
      "text/plain": [
       "0"
      ]
     },
     "execution_count": 63,
     "metadata": {},
     "output_type": "execute_result"
    }
   ],
   "source": [
    "#Checking for dupicates for tmdb_df\n",
    "tmdb_df.duplicated().sum()"
   ]
  },
  {
   "cell_type": "code",
   "execution_count": 64,
   "id": "03b2837a",
   "metadata": {},
   "outputs": [
    {
     "data": {
      "text/plain": [
       "0"
      ]
     },
     "execution_count": 64,
     "metadata": {},
     "output_type": "execute_result"
    }
   ],
   "source": [
    "#Checking for dupicates for mbasics_df\n",
    "mbasics_df.duplicated().sum()"
   ]
  },
  {
   "cell_type": "code",
   "execution_count": 65,
   "id": "8ac359f1",
   "metadata": {},
   "outputs": [
    {
     "data": {
      "text/plain": [
       "0"
      ]
     },
     "execution_count": 65,
     "metadata": {},
     "output_type": "execute_result"
    }
   ],
   "source": [
    "#Checking for dupicates for the rating_df dataset\n",
    "rating_df.duplicated().sum()"
   ]
  },
  {
   "cell_type": "code",
   "execution_count": 66,
   "id": "faffac8b",
   "metadata": {},
   "outputs": [
    {
     "data": {
      "text/plain": [
       "127639"
      ]
     },
     "execution_count": 66,
     "metadata": {},
     "output_type": "execute_result"
    }
   ],
   "source": [
    "directors_df.duplicated().sum()"
   ]
  },
  {
   "cell_type": "code",
   "execution_count": 67,
   "id": "27641492",
   "metadata": {},
   "outputs": [
    {
     "data": {
      "text/plain": [
       "0"
      ]
     },
     "execution_count": 67,
     "metadata": {},
     "output_type": "execute_result"
    }
   ],
   "source": [
    "directors_df.drop_duplicates(inplace=True)\n",
    "directors_df.duplicated().sum()"
   ]
  },
  {
   "cell_type": "markdown",
   "id": "2eec0b16",
   "metadata": {},
   "source": [
    "### Feature engineering"
   ]
  },
  {
   "cell_type": "code",
   "execution_count": 68,
   "id": "9082ef94",
   "metadata": {},
   "outputs": [
    {
     "data": {
      "text/html": [
       "<div>\n",
       "<style scoped>\n",
       "    .dataframe tbody tr th:only-of-type {\n",
       "        vertical-align: middle;\n",
       "    }\n",
       "\n",
       "    .dataframe tbody tr th {\n",
       "        vertical-align: top;\n",
       "    }\n",
       "\n",
       "    .dataframe thead th {\n",
       "        text-align: right;\n",
       "    }\n",
       "</style>\n",
       "<table border=\"1\" class=\"dataframe\">\n",
       "  <thead>\n",
       "    <tr style=\"text-align: right;\">\n",
       "      <th></th>\n",
       "      <th>genre</th>\n",
       "      <th>main_genre</th>\n",
       "      <th>supporting_genre</th>\n",
       "    </tr>\n",
       "  </thead>\n",
       "  <tbody>\n",
       "    <tr>\n",
       "      <th>1</th>\n",
       "      <td>Drama|Science Fiction and Fantasy</td>\n",
       "      <td>Drama</td>\n",
       "      <td>Science Fiction and Fantasy</td>\n",
       "    </tr>\n",
       "    <tr>\n",
       "      <th>6</th>\n",
       "      <td>Comedy</td>\n",
       "      <td>Comedy</td>\n",
       "      <td></td>\n",
       "    </tr>\n",
       "    <tr>\n",
       "      <th>7</th>\n",
       "      <td>Drama</td>\n",
       "      <td>Drama</td>\n",
       "      <td></td>\n",
       "    </tr>\n",
       "    <tr>\n",
       "      <th>8</th>\n",
       "      <td>Drama</td>\n",
       "      <td>Drama</td>\n",
       "      <td></td>\n",
       "    </tr>\n",
       "    <tr>\n",
       "      <th>15</th>\n",
       "      <td>Comedy|Drama|Mystery and Suspense</td>\n",
       "      <td>Comedy</td>\n",
       "      <td>Drama|Mystery and Suspense</td>\n",
       "    </tr>\n",
       "  </tbody>\n",
       "</table>\n",
       "</div>"
      ],
      "text/plain": [
       "                                genre main_genre             supporting_genre\n",
       "1   Drama|Science Fiction and Fantasy      Drama  Science Fiction and Fantasy\n",
       "6                              Comedy     Comedy                             \n",
       "7                               Drama      Drama                             \n",
       "8                               Drama      Drama                             \n",
       "15  Comedy|Drama|Mystery and Suspense     Comedy   Drama|Mystery and Suspense"
      ]
     },
     "execution_count": 68,
     "metadata": {},
     "output_type": "execute_result"
    }
   ],
   "source": [
    "# Split 'genre' into 'main_genre' and 'supporting_genre'\n",
    "movie_df['main_genre'] = movie_df['genre'].str.split('|').str[0]\n",
    "movie_df['supporting_genre'] = movie_df['genre'].str.split('|').apply(lambda x: '|'.join(x[1:]) if len(x) > 1 else '')\n",
    "\n",
    "# Preview the result\n",
    "movie_df[['genre', 'main_genre', 'supporting_genre']].head()\n"
   ]
  },
  {
   "cell_type": "code",
   "execution_count": 69,
   "id": "c2f4244c",
   "metadata": {},
   "outputs": [
    {
     "data": {
      "text/html": [
       "<div>\n",
       "<style scoped>\n",
       "    .dataframe tbody tr th:only-of-type {\n",
       "        vertical-align: middle;\n",
       "    }\n",
       "\n",
       "    .dataframe tbody tr th {\n",
       "        vertical-align: top;\n",
       "    }\n",
       "\n",
       "    .dataframe thead th {\n",
       "        text-align: right;\n",
       "    }\n",
       "</style>\n",
       "<table border=\"1\" class=\"dataframe\">\n",
       "  <thead>\n",
       "    <tr style=\"text-align: right;\">\n",
       "      <th></th>\n",
       "      <th>year</th>\n",
       "    </tr>\n",
       "  </thead>\n",
       "  <tbody>\n",
       "    <tr>\n",
       "      <th>1</th>\n",
       "      <td>2012</td>\n",
       "    </tr>\n",
       "    <tr>\n",
       "      <th>6</th>\n",
       "      <td>2002</td>\n",
       "    </tr>\n",
       "    <tr>\n",
       "      <th>7</th>\n",
       "      <td>2006</td>\n",
       "    </tr>\n",
       "    <tr>\n",
       "      <th>8</th>\n",
       "      <td>2010</td>\n",
       "    </tr>\n",
       "    <tr>\n",
       "      <th>15</th>\n",
       "      <td>2010</td>\n",
       "    </tr>\n",
       "  </tbody>\n",
       "</table>\n",
       "</div>"
      ],
      "text/plain": [
       "    year\n",
       "1   2012\n",
       "6   2002\n",
       "7   2006\n",
       "8   2010\n",
       "15  2010"
      ]
     },
     "execution_count": 69,
     "metadata": {},
     "output_type": "execute_result"
    }
   ],
   "source": [
    "# Convert 'theater_date' and 'dvd_date' columns to datetime format\n",
    "movie_df[\"year\"]= pd.to_datetime(movie_df[\"year\"]).dt.year\n",
    "\n",
    "movie_df[['year']].head()"
   ]
  },
  {
   "cell_type": "code",
   "execution_count": 70,
   "id": "049b500a",
   "metadata": {},
   "outputs": [],
   "source": [
    "#From the new columns we can drop the columns further for easier analysis\n",
    "movie_df.drop([\"genre\",\"supporting_genre\"],axis=1,inplace=True)\n",
    "\n",
    "#Renaming the remaining column\n",
    "movie_df.rename({\"main_genre\":\"genre\"},axis=1,inplace=True)\n"
   ]
  },
  {
   "cell_type": "code",
   "execution_count": 71,
   "id": "f17c47c6",
   "metadata": {},
   "outputs": [
    {
     "data": {
      "text/html": [
       "<div>\n",
       "<style scoped>\n",
       "    .dataframe tbody tr th:only-of-type {\n",
       "        vertical-align: middle;\n",
       "    }\n",
       "\n",
       "    .dataframe tbody tr th {\n",
       "        vertical-align: top;\n",
       "    }\n",
       "\n",
       "    .dataframe thead th {\n",
       "        text-align: right;\n",
       "    }\n",
       "</style>\n",
       "<table border=\"1\" class=\"dataframe\">\n",
       "  <thead>\n",
       "    <tr style=\"text-align: right;\">\n",
       "      <th></th>\n",
       "      <th>id</th>\n",
       "      <th>rating</th>\n",
       "      <th>director</th>\n",
       "      <th>year</th>\n",
       "      <th>box_office</th>\n",
       "      <th>genre</th>\n",
       "    </tr>\n",
       "  </thead>\n",
       "  <tbody>\n",
       "    <tr>\n",
       "      <th>1</th>\n",
       "      <td>3</td>\n",
       "      <td>R</td>\n",
       "      <td>David Cronenberg</td>\n",
       "      <td>2012</td>\n",
       "      <td>600000</td>\n",
       "      <td>Drama</td>\n",
       "    </tr>\n",
       "    <tr>\n",
       "      <th>6</th>\n",
       "      <td>10</td>\n",
       "      <td>PG-13</td>\n",
       "      <td>Jake Kasdan</td>\n",
       "      <td>2002</td>\n",
       "      <td>41032915</td>\n",
       "      <td>Comedy</td>\n",
       "    </tr>\n",
       "    <tr>\n",
       "      <th>7</th>\n",
       "      <td>13</td>\n",
       "      <td>R</td>\n",
       "      <td>Ray Lawrence</td>\n",
       "      <td>2006</td>\n",
       "      <td>224114</td>\n",
       "      <td>Drama</td>\n",
       "    </tr>\n",
       "    <tr>\n",
       "      <th>8</th>\n",
       "      <td>14</td>\n",
       "      <td>R</td>\n",
       "      <td>Taylor Hackford</td>\n",
       "      <td>2010</td>\n",
       "      <td>134904</td>\n",
       "      <td>Drama</td>\n",
       "    </tr>\n",
       "    <tr>\n",
       "      <th>15</th>\n",
       "      <td>22</td>\n",
       "      <td>R</td>\n",
       "      <td>George Hickenlooper</td>\n",
       "      <td>2010</td>\n",
       "      <td>1039869</td>\n",
       "      <td>Comedy</td>\n",
       "    </tr>\n",
       "  </tbody>\n",
       "</table>\n",
       "</div>"
      ],
      "text/plain": [
       "    id rating             director  year  box_office   genre\n",
       "1    3      R     David Cronenberg  2012      600000   Drama\n",
       "6   10  PG-13          Jake Kasdan  2002    41032915  Comedy\n",
       "7   13      R         Ray Lawrence  2006      224114   Drama\n",
       "8   14      R      Taylor Hackford  2010      134904   Drama\n",
       "15  22      R  George Hickenlooper  2010     1039869  Comedy"
      ]
     },
     "execution_count": 71,
     "metadata": {},
     "output_type": "execute_result"
    }
   ],
   "source": [
    "#Confirming changes\n",
    "movie_df.head()"
   ]
  },
  {
   "cell_type": "code",
   "execution_count": 72,
   "id": "aade1e9b",
   "metadata": {},
   "outputs": [],
   "source": [
    "# convert 'release_date' to year \n",
    "tmdb_df[\"year\"]= pd.to_datetime(tmdb_df[\"year\"]).dt.year\n"
   ]
  },
  {
   "cell_type": "code",
   "execution_count": 73,
   "id": "4d906590",
   "metadata": {},
   "outputs": [],
   "source": [
    "# merging the movie_df and gross_df on 'id'\n",
    "movie_basics_rating_df = pd.merge(mbasics_df, rating_df, on='id', how='inner')\n",
    "\n",
    "\n"
   ]
  },
  {
   "cell_type": "code",
   "execution_count": 74,
   "id": "073f32ad",
   "metadata": {},
   "outputs": [
    {
     "data": {
      "text/html": [
       "<div>\n",
       "<style scoped>\n",
       "    .dataframe tbody tr th:only-of-type {\n",
       "        vertical-align: middle;\n",
       "    }\n",
       "\n",
       "    .dataframe tbody tr th {\n",
       "        vertical-align: top;\n",
       "    }\n",
       "\n",
       "    .dataframe thead th {\n",
       "        text-align: right;\n",
       "    }\n",
       "</style>\n",
       "<table border=\"1\" class=\"dataframe\">\n",
       "  <thead>\n",
       "    <tr style=\"text-align: right;\">\n",
       "      <th></th>\n",
       "      <th>id</th>\n",
       "      <th>title</th>\n",
       "      <th>year</th>\n",
       "      <th>genres</th>\n",
       "      <th>average_rating</th>\n",
       "    </tr>\n",
       "  </thead>\n",
       "  <tbody>\n",
       "    <tr>\n",
       "      <th>0</th>\n",
       "      <td>tt0063540</td>\n",
       "      <td>Sunghursh</td>\n",
       "      <td>2013</td>\n",
       "      <td>Action,Crime,Drama</td>\n",
       "      <td>7.0</td>\n",
       "    </tr>\n",
       "    <tr>\n",
       "      <th>1</th>\n",
       "      <td>tt0066787</td>\n",
       "      <td>One Day Before the Rainy Season</td>\n",
       "      <td>2019</td>\n",
       "      <td>Biography,Drama</td>\n",
       "      <td>7.2</td>\n",
       "    </tr>\n",
       "    <tr>\n",
       "      <th>2</th>\n",
       "      <td>tt0069049</td>\n",
       "      <td>The Other Side of the Wind</td>\n",
       "      <td>2018</td>\n",
       "      <td>Drama</td>\n",
       "      <td>6.9</td>\n",
       "    </tr>\n",
       "    <tr>\n",
       "      <th>3</th>\n",
       "      <td>tt0069204</td>\n",
       "      <td>Sabse Bada Sukh</td>\n",
       "      <td>2018</td>\n",
       "      <td>Comedy,Drama</td>\n",
       "      <td>6.1</td>\n",
       "    </tr>\n",
       "    <tr>\n",
       "      <th>4</th>\n",
       "      <td>tt0100275</td>\n",
       "      <td>The Wandering Soap Opera</td>\n",
       "      <td>2017</td>\n",
       "      <td>Comedy,Drama,Fantasy</td>\n",
       "      <td>6.5</td>\n",
       "    </tr>\n",
       "  </tbody>\n",
       "</table>\n",
       "</div>"
      ],
      "text/plain": [
       "          id                            title  year                genres  \\\n",
       "0  tt0063540                        Sunghursh  2013    Action,Crime,Drama   \n",
       "1  tt0066787  One Day Before the Rainy Season  2019       Biography,Drama   \n",
       "2  tt0069049       The Other Side of the Wind  2018                 Drama   \n",
       "3  tt0069204                  Sabse Bada Sukh  2018          Comedy,Drama   \n",
       "4  tt0100275         The Wandering Soap Opera  2017  Comedy,Drama,Fantasy   \n",
       "\n",
       "   average_rating  \n",
       "0             7.0  \n",
       "1             7.2  \n",
       "2             6.9  \n",
       "3             6.1  \n",
       "4             6.5  "
      ]
     },
     "execution_count": 74,
     "metadata": {},
     "output_type": "execute_result"
    }
   ],
   "source": [
    "movie_basics_rating_df.head()"
   ]
  },
  {
   "cell_type": "code",
   "execution_count": 75,
   "id": "9a8153fd",
   "metadata": {},
   "outputs": [
    {
     "name": "stdout",
     "output_type": "stream",
     "text": [
      "        id_x                            title  year_x  \\\n",
      "0  tt0315642                            Wazir    2016   \n",
      "1  tt0337692                      On the Road    2012   \n",
      "2  tt4339118                      On the Road    2014   \n",
      "3  tt5647250                      On the Road    2016   \n",
      "4  tt0359950  The Secret Life of Walter Mitty    2013   \n",
      "\n",
      "                    genres  average_rating  id_y  domestic_gross  \\\n",
      "0       Action,Crime,Drama             7.1  2569   $1,100,000.00   \n",
      "1  Adventure,Drama,Romance             6.1   905     $744,000.00   \n",
      "2                    Drama             6.0   905     $744,000.00   \n",
      "3                    Drama             5.7   905     $744,000.00   \n",
      "4   Adventure,Comedy,Drama             7.3  1170  $58,200,000.00   \n",
      "\n",
      "     foreign_gross  year_y      total_gross  \n",
      "0   $18,900,000.00    2016   $20,000,000.00  \n",
      "1    $8,000,000.00    2012    $8,744,000.00  \n",
      "2    $8,000,000.00    2012    $8,744,000.00  \n",
      "3    $8,000,000.00    2012    $8,744,000.00  \n",
      "4  $129,900,000.00    2013  $188,100,000.00  \n"
     ]
    }
   ],
   "source": [
    "#Merging the tm1 dataset(\"tmdb.movies.csv\") to the original merged data set\n",
    "# First merge: Add tmdb1 to the existing merged DataFrame\n",
    "movie_basics_rating_df_final = pd.merge(movie_basics_rating_df, tmdb_df, on=\"title\", how='inner')\n",
    "\n",
    "# Second merge: Add bom1 to the updated merged DataFrame using the same column name\n",
    "movie_basics_rating_df_final = pd.merge(movie_basics_rating_df, gross_df, on=\"title\", how='inner')\n",
    "# Check the result\n",
    "print(movie_basics_rating_df_final.head())\n"
   ]
  },
  {
   "cell_type": "code",
   "execution_count": 76,
   "id": "7751d37d",
   "metadata": {
    "scrolled": true
   },
   "outputs": [
    {
     "data": {
      "text/html": [
       "<div>\n",
       "<style scoped>\n",
       "    .dataframe tbody tr th:only-of-type {\n",
       "        vertical-align: middle;\n",
       "    }\n",
       "\n",
       "    .dataframe tbody tr th {\n",
       "        vertical-align: top;\n",
       "    }\n",
       "\n",
       "    .dataframe thead th {\n",
       "        text-align: right;\n",
       "    }\n",
       "</style>\n",
       "<table border=\"1\" class=\"dataframe\">\n",
       "  <thead>\n",
       "    <tr style=\"text-align: right;\">\n",
       "      <th></th>\n",
       "      <th>id_x</th>\n",
       "      <th>title</th>\n",
       "      <th>year_x</th>\n",
       "      <th>genres</th>\n",
       "      <th>average_rating</th>\n",
       "      <th>id_y</th>\n",
       "      <th>domestic_gross</th>\n",
       "      <th>foreign_gross</th>\n",
       "      <th>year_y</th>\n",
       "      <th>total_gross</th>\n",
       "    </tr>\n",
       "  </thead>\n",
       "  <tbody>\n",
       "    <tr>\n",
       "      <th>0</th>\n",
       "      <td>tt0315642</td>\n",
       "      <td>Wazir</td>\n",
       "      <td>2016</td>\n",
       "      <td>Action,Crime,Drama</td>\n",
       "      <td>7.1</td>\n",
       "      <td>2569</td>\n",
       "      <td>$1,100,000.00</td>\n",
       "      <td>$18,900,000.00</td>\n",
       "      <td>2016</td>\n",
       "      <td>$20,000,000.00</td>\n",
       "    </tr>\n",
       "    <tr>\n",
       "      <th>1</th>\n",
       "      <td>tt0337692</td>\n",
       "      <td>On the Road</td>\n",
       "      <td>2012</td>\n",
       "      <td>Adventure,Drama,Romance</td>\n",
       "      <td>6.1</td>\n",
       "      <td>905</td>\n",
       "      <td>$744,000.00</td>\n",
       "      <td>$8,000,000.00</td>\n",
       "      <td>2012</td>\n",
       "      <td>$8,744,000.00</td>\n",
       "    </tr>\n",
       "    <tr>\n",
       "      <th>2</th>\n",
       "      <td>tt4339118</td>\n",
       "      <td>On the Road</td>\n",
       "      <td>2014</td>\n",
       "      <td>Drama</td>\n",
       "      <td>6.0</td>\n",
       "      <td>905</td>\n",
       "      <td>$744,000.00</td>\n",
       "      <td>$8,000,000.00</td>\n",
       "      <td>2012</td>\n",
       "      <td>$8,744,000.00</td>\n",
       "    </tr>\n",
       "    <tr>\n",
       "      <th>3</th>\n",
       "      <td>tt5647250</td>\n",
       "      <td>On the Road</td>\n",
       "      <td>2016</td>\n",
       "      <td>Drama</td>\n",
       "      <td>5.7</td>\n",
       "      <td>905</td>\n",
       "      <td>$744,000.00</td>\n",
       "      <td>$8,000,000.00</td>\n",
       "      <td>2012</td>\n",
       "      <td>$8,744,000.00</td>\n",
       "    </tr>\n",
       "    <tr>\n",
       "      <th>4</th>\n",
       "      <td>tt0359950</td>\n",
       "      <td>The Secret Life of Walter Mitty</td>\n",
       "      <td>2013</td>\n",
       "      <td>Adventure,Comedy,Drama</td>\n",
       "      <td>7.3</td>\n",
       "      <td>1170</td>\n",
       "      <td>$58,200,000.00</td>\n",
       "      <td>$129,900,000.00</td>\n",
       "      <td>2013</td>\n",
       "      <td>$188,100,000.00</td>\n",
       "    </tr>\n",
       "    <tr>\n",
       "      <th>...</th>\n",
       "      <td>...</td>\n",
       "      <td>...</td>\n",
       "      <td>...</td>\n",
       "      <td>...</td>\n",
       "      <td>...</td>\n",
       "      <td>...</td>\n",
       "      <td>...</td>\n",
       "      <td>...</td>\n",
       "      <td>...</td>\n",
       "      <td>...</td>\n",
       "    </tr>\n",
       "    <tr>\n",
       "      <th>3022</th>\n",
       "      <td>tt8331988</td>\n",
       "      <td>The Chambermaid</td>\n",
       "      <td>2018</td>\n",
       "      <td>Drama</td>\n",
       "      <td>7.1</td>\n",
       "      <td>2322</td>\n",
       "      <td>$300.00</td>\n",
       "      <td>$18,900,000.00</td>\n",
       "      <td>2015</td>\n",
       "      <td>$18,900,300.00</td>\n",
       "    </tr>\n",
       "    <tr>\n",
       "      <th>3023</th>\n",
       "      <td>tt8404272</td>\n",
       "      <td>How Long Will I Love U</td>\n",
       "      <td>2018</td>\n",
       "      <td>Romance</td>\n",
       "      <td>6.5</td>\n",
       "      <td>3150</td>\n",
       "      <td>$747,000.00</td>\n",
       "      <td>$82,100,000.00</td>\n",
       "      <td>2018</td>\n",
       "      <td>$82,847,000.00</td>\n",
       "    </tr>\n",
       "    <tr>\n",
       "      <th>3024</th>\n",
       "      <td>tt8427036</td>\n",
       "      <td>Helicopter Eela</td>\n",
       "      <td>2018</td>\n",
       "      <td>Drama</td>\n",
       "      <td>5.4</td>\n",
       "      <td>3355</td>\n",
       "      <td>$72,000.00</td>\n",
       "      <td>$18,900,000.00</td>\n",
       "      <td>2018</td>\n",
       "      <td>$18,972,000.00</td>\n",
       "    </tr>\n",
       "    <tr>\n",
       "      <th>3025</th>\n",
       "      <td>tt9078374</td>\n",
       "      <td>Last Letter</td>\n",
       "      <td>2018</td>\n",
       "      <td>Drama,Romance</td>\n",
       "      <td>6.4</td>\n",
       "      <td>3320</td>\n",
       "      <td>$181,000.00</td>\n",
       "      <td>$18,900,000.00</td>\n",
       "      <td>2018</td>\n",
       "      <td>$19,081,000.00</td>\n",
       "    </tr>\n",
       "    <tr>\n",
       "      <th>3026</th>\n",
       "      <td>tt9151704</td>\n",
       "      <td>Burn the Stage: The Movie</td>\n",
       "      <td>2018</td>\n",
       "      <td>Documentary,Music</td>\n",
       "      <td>8.8</td>\n",
       "      <td>3205</td>\n",
       "      <td>$4,200,000.00</td>\n",
       "      <td>$16,100,000.00</td>\n",
       "      <td>2018</td>\n",
       "      <td>$20,300,000.00</td>\n",
       "    </tr>\n",
       "  </tbody>\n",
       "</table>\n",
       "<p>3027 rows × 10 columns</p>\n",
       "</div>"
      ],
      "text/plain": [
       "           id_x                            title  year_x  \\\n",
       "0     tt0315642                            Wazir    2016   \n",
       "1     tt0337692                      On the Road    2012   \n",
       "2     tt4339118                      On the Road    2014   \n",
       "3     tt5647250                      On the Road    2016   \n",
       "4     tt0359950  The Secret Life of Walter Mitty    2013   \n",
       "...         ...                              ...     ...   \n",
       "3022  tt8331988                  The Chambermaid    2018   \n",
       "3023  tt8404272           How Long Will I Love U    2018   \n",
       "3024  tt8427036                  Helicopter Eela    2018   \n",
       "3025  tt9078374                      Last Letter    2018   \n",
       "3026  tt9151704        Burn the Stage: The Movie    2018   \n",
       "\n",
       "                       genres  average_rating  id_y  domestic_gross  \\\n",
       "0          Action,Crime,Drama             7.1  2569   $1,100,000.00   \n",
       "1     Adventure,Drama,Romance             6.1   905     $744,000.00   \n",
       "2                       Drama             6.0   905     $744,000.00   \n",
       "3                       Drama             5.7   905     $744,000.00   \n",
       "4      Adventure,Comedy,Drama             7.3  1170  $58,200,000.00   \n",
       "...                       ...             ...   ...             ...   \n",
       "3022                    Drama             7.1  2322         $300.00   \n",
       "3023                  Romance             6.5  3150     $747,000.00   \n",
       "3024                    Drama             5.4  3355      $72,000.00   \n",
       "3025            Drama,Romance             6.4  3320     $181,000.00   \n",
       "3026        Documentary,Music             8.8  3205   $4,200,000.00   \n",
       "\n",
       "        foreign_gross  year_y      total_gross  \n",
       "0      $18,900,000.00    2016   $20,000,000.00  \n",
       "1       $8,000,000.00    2012    $8,744,000.00  \n",
       "2       $8,000,000.00    2012    $8,744,000.00  \n",
       "3       $8,000,000.00    2012    $8,744,000.00  \n",
       "4     $129,900,000.00    2013  $188,100,000.00  \n",
       "...               ...     ...              ...  \n",
       "3022   $18,900,000.00    2015   $18,900,300.00  \n",
       "3023   $82,100,000.00    2018   $82,847,000.00  \n",
       "3024   $18,900,000.00    2018   $18,972,000.00  \n",
       "3025   $18,900,000.00    2018   $19,081,000.00  \n",
       "3026   $16,100,000.00    2018   $20,300,000.00  \n",
       "\n",
       "[3027 rows x 10 columns]"
      ]
     },
     "execution_count": 76,
     "metadata": {},
     "output_type": "execute_result"
    }
   ],
   "source": [
    "#Changing the merged dataset to a dataframe\n",
    "merged_movies_final_df=pd.DataFrame(movie_basics_rating_df_final)\n",
    "merged_movies_final_df"
   ]
  },
  {
   "cell_type": "code",
   "execution_count": 77,
   "id": "f924c40b",
   "metadata": {},
   "outputs": [],
   "source": [
    "#Dropping unnecessary columns for the merged dataset\n",
    "merged_movies_final_df.drop(columns=[\"id_x\",\"year_x\",\"id_y\"],axis=1,inplace=True)"
   ]
  },
  {
   "cell_type": "code",
   "execution_count": 78,
   "id": "52223d81",
   "metadata": {},
   "outputs": [],
   "source": [
    "#Renaming columns\n",
    "merged_movies_final_df.rename({\"year_y\":\"year\"},axis=1,inplace=True)"
   ]
  },
  {
   "cell_type": "code",
   "execution_count": 79,
   "id": "9313473e",
   "metadata": {},
   "outputs": [
    {
     "data": {
      "text/html": [
       "<div>\n",
       "<style scoped>\n",
       "    .dataframe tbody tr th:only-of-type {\n",
       "        vertical-align: middle;\n",
       "    }\n",
       "\n",
       "    .dataframe tbody tr th {\n",
       "        vertical-align: top;\n",
       "    }\n",
       "\n",
       "    .dataframe thead th {\n",
       "        text-align: right;\n",
       "    }\n",
       "</style>\n",
       "<table border=\"1\" class=\"dataframe\">\n",
       "  <thead>\n",
       "    <tr style=\"text-align: right;\">\n",
       "      <th></th>\n",
       "      <th>title</th>\n",
       "      <th>genres</th>\n",
       "      <th>average_rating</th>\n",
       "      <th>domestic_gross</th>\n",
       "      <th>foreign_gross</th>\n",
       "      <th>year</th>\n",
       "      <th>total_gross</th>\n",
       "    </tr>\n",
       "  </thead>\n",
       "  <tbody>\n",
       "    <tr>\n",
       "      <th>0</th>\n",
       "      <td>Wazir</td>\n",
       "      <td>Action,Crime,Drama</td>\n",
       "      <td>7.1</td>\n",
       "      <td>$1,100,000.00</td>\n",
       "      <td>$18,900,000.00</td>\n",
       "      <td>2016</td>\n",
       "      <td>$20,000,000.00</td>\n",
       "    </tr>\n",
       "    <tr>\n",
       "      <th>1</th>\n",
       "      <td>On the Road</td>\n",
       "      <td>Adventure,Drama,Romance</td>\n",
       "      <td>6.1</td>\n",
       "      <td>$744,000.00</td>\n",
       "      <td>$8,000,000.00</td>\n",
       "      <td>2012</td>\n",
       "      <td>$8,744,000.00</td>\n",
       "    </tr>\n",
       "    <tr>\n",
       "      <th>2</th>\n",
       "      <td>On the Road</td>\n",
       "      <td>Drama</td>\n",
       "      <td>6.0</td>\n",
       "      <td>$744,000.00</td>\n",
       "      <td>$8,000,000.00</td>\n",
       "      <td>2012</td>\n",
       "      <td>$8,744,000.00</td>\n",
       "    </tr>\n",
       "    <tr>\n",
       "      <th>3</th>\n",
       "      <td>On the Road</td>\n",
       "      <td>Drama</td>\n",
       "      <td>5.7</td>\n",
       "      <td>$744,000.00</td>\n",
       "      <td>$8,000,000.00</td>\n",
       "      <td>2012</td>\n",
       "      <td>$8,744,000.00</td>\n",
       "    </tr>\n",
       "    <tr>\n",
       "      <th>4</th>\n",
       "      <td>The Secret Life of Walter Mitty</td>\n",
       "      <td>Adventure,Comedy,Drama</td>\n",
       "      <td>7.3</td>\n",
       "      <td>$58,200,000.00</td>\n",
       "      <td>$129,900,000.00</td>\n",
       "      <td>2013</td>\n",
       "      <td>$188,100,000.00</td>\n",
       "    </tr>\n",
       "    <tr>\n",
       "      <th>...</th>\n",
       "      <td>...</td>\n",
       "      <td>...</td>\n",
       "      <td>...</td>\n",
       "      <td>...</td>\n",
       "      <td>...</td>\n",
       "      <td>...</td>\n",
       "      <td>...</td>\n",
       "    </tr>\n",
       "    <tr>\n",
       "      <th>3022</th>\n",
       "      <td>The Chambermaid</td>\n",
       "      <td>Drama</td>\n",
       "      <td>7.1</td>\n",
       "      <td>$300.00</td>\n",
       "      <td>$18,900,000.00</td>\n",
       "      <td>2015</td>\n",
       "      <td>$18,900,300.00</td>\n",
       "    </tr>\n",
       "    <tr>\n",
       "      <th>3023</th>\n",
       "      <td>How Long Will I Love U</td>\n",
       "      <td>Romance</td>\n",
       "      <td>6.5</td>\n",
       "      <td>$747,000.00</td>\n",
       "      <td>$82,100,000.00</td>\n",
       "      <td>2018</td>\n",
       "      <td>$82,847,000.00</td>\n",
       "    </tr>\n",
       "    <tr>\n",
       "      <th>3024</th>\n",
       "      <td>Helicopter Eela</td>\n",
       "      <td>Drama</td>\n",
       "      <td>5.4</td>\n",
       "      <td>$72,000.00</td>\n",
       "      <td>$18,900,000.00</td>\n",
       "      <td>2018</td>\n",
       "      <td>$18,972,000.00</td>\n",
       "    </tr>\n",
       "    <tr>\n",
       "      <th>3025</th>\n",
       "      <td>Last Letter</td>\n",
       "      <td>Drama,Romance</td>\n",
       "      <td>6.4</td>\n",
       "      <td>$181,000.00</td>\n",
       "      <td>$18,900,000.00</td>\n",
       "      <td>2018</td>\n",
       "      <td>$19,081,000.00</td>\n",
       "    </tr>\n",
       "    <tr>\n",
       "      <th>3026</th>\n",
       "      <td>Burn the Stage: The Movie</td>\n",
       "      <td>Documentary,Music</td>\n",
       "      <td>8.8</td>\n",
       "      <td>$4,200,000.00</td>\n",
       "      <td>$16,100,000.00</td>\n",
       "      <td>2018</td>\n",
       "      <td>$20,300,000.00</td>\n",
       "    </tr>\n",
       "  </tbody>\n",
       "</table>\n",
       "<p>3027 rows × 7 columns</p>\n",
       "</div>"
      ],
      "text/plain": [
       "                                title                   genres  \\\n",
       "0                               Wazir       Action,Crime,Drama   \n",
       "1                         On the Road  Adventure,Drama,Romance   \n",
       "2                         On the Road                    Drama   \n",
       "3                         On the Road                    Drama   \n",
       "4     The Secret Life of Walter Mitty   Adventure,Comedy,Drama   \n",
       "...                               ...                      ...   \n",
       "3022                  The Chambermaid                    Drama   \n",
       "3023           How Long Will I Love U                  Romance   \n",
       "3024                  Helicopter Eela                    Drama   \n",
       "3025                      Last Letter            Drama,Romance   \n",
       "3026        Burn the Stage: The Movie        Documentary,Music   \n",
       "\n",
       "      average_rating  domestic_gross    foreign_gross  year      total_gross  \n",
       "0                7.1   $1,100,000.00   $18,900,000.00  2016   $20,000,000.00  \n",
       "1                6.1     $744,000.00    $8,000,000.00  2012    $8,744,000.00  \n",
       "2                6.0     $744,000.00    $8,000,000.00  2012    $8,744,000.00  \n",
       "3                5.7     $744,000.00    $8,000,000.00  2012    $8,744,000.00  \n",
       "4                7.3  $58,200,000.00  $129,900,000.00  2013  $188,100,000.00  \n",
       "...              ...             ...              ...   ...              ...  \n",
       "3022             7.1         $300.00   $18,900,000.00  2015   $18,900,300.00  \n",
       "3023             6.5     $747,000.00   $82,100,000.00  2018   $82,847,000.00  \n",
       "3024             5.4      $72,000.00   $18,900,000.00  2018   $18,972,000.00  \n",
       "3025             6.4     $181,000.00   $18,900,000.00  2018   $19,081,000.00  \n",
       "3026             8.8   $4,200,000.00   $16,100,000.00  2018   $20,300,000.00  \n",
       "\n",
       "[3027 rows x 7 columns]"
      ]
     },
     "execution_count": 79,
     "metadata": {},
     "output_type": "execute_result"
    }
   ],
   "source": [
    "#Confirming the changes\n",
    "merged_movies_final_df"
   ]
  },
  {
   "cell_type": "markdown",
   "id": "90ebfe20",
   "metadata": {},
   "source": [
    "### Saving Dataset"
   ]
  },
  {
   "cell_type": "code",
   "execution_count": 80,
   "id": "85462142",
   "metadata": {},
   "outputs": [],
   "source": [
    "#Saving the merged dataset\n",
    "merged_movies_final_df.to_csv(\"merged_movies_clean.csv\")"
   ]
  },
  {
   "cell_type": "code",
   "execution_count": 81,
   "id": "1ed65532",
   "metadata": {},
   "outputs": [],
   "source": [
    "#Saving the movie_df dataset\n",
    "movie_df.to_csv(\"movie_info_clean.csv\")"
   ]
  },
  {
   "cell_type": "markdown",
   "id": "7ce2b02d",
   "metadata": {},
   "source": [
    "# Data Preparation\n"
   ]
  },
  {
   "cell_type": "markdown",
   "id": "1dfdd0ba",
   "metadata": {},
   "source": [
    "## Analysis "
   ]
  },
  {
   "cell_type": "markdown",
   "id": "6a0b79c1",
   "metadata": {},
   "source": [
    "### Analysis based on Genre Vs  Rating"
   ]
  },
  {
   "cell_type": "markdown",
   "id": "308ed1b1",
   "metadata": {},
   "source": [
    "We will make a visualization for top 10 genres with the highest ratings"
   ]
  },
  {
   "cell_type": "code",
   "execution_count": 82,
   "id": "9a6d4d66",
   "metadata": {},
   "outputs": [
    {
     "data": {
      "image/png": "[encoded data removed]",
      "text/plain": [
       "<Figure size 500x500 with 1 Axes>"
      ]
     },
     "metadata": {},
     "output_type": "display_data"
    }
   ],
   "source": [
    "genre_rating= merged_movies_final_df.groupby(\"genres\")[\"average_rating\"].sum().sort_values(ascending=False).head(10)\n",
    "plt.figure(figsize=(5, 5))\n",
    "sns.barplot(x=genre_rating.index, y=genre_rating.values,palette=\"Blues\")\n",
    "plt.xticks(rotation=45, ha='right')\n",
    "plt.title('Genre vs Rating')\n",
    "plt.show()"
   ]
  },
  {
   "cell_type": "markdown",
   "id": "bdf906e8",
   "metadata": {},
   "source": [
    "#### Findings:"
   ]
  },
  {
   "cell_type": "markdown",
   "id": "27812963",
   "metadata": {},
   "source": [
    "From the above analysis it is evident that the drama genre is the genre with highest rating with a rating higher than 2000."
   ]
  },
  {
   "cell_type": "markdown",
   "id": "087105df",
   "metadata": {},
   "source": [
    "### Analysis based on Genre Vs Sales"
   ]
  },
  {
   "cell_type": "markdown",
   "id": "1496cbee",
   "metadata": {},
   "source": [
    "Here we will make visualization based on the top 10 highest selling genres based on amount each genre grossed."
   ]
  },
  {
   "cell_type": "code",
   "execution_count": 83,
   "id": "8d9563b2",
   "metadata": {},
   "outputs": [
    {
     "data": {
      "image/png": "[encoded data removed]",
      "text/plain": [
       "<Figure size 500x500 with 1 Axes>"
      ]
     },
     "metadata": {},
     "output_type": "display_data"
    }
   ],
   "source": [
    "genre_sales= merged_movies_final_df.groupby(\"genres\")[\"total_gross\"].sum().sort_values(ascending=False).head(10)\n",
    "plt.figure(figsize=(5, 5))\n",
    "sns.barplot(x=genre_sales.index, y=genre_rating.values,palette=\"Blues\")\n",
    "plt.xticks(rotation=45, ha='right')\n",
    "plt.title('Genre vs Sales')\n",
    "plt.show()"
   ]
  },
  {
   "cell_type": "markdown",
   "id": "9f0bdf2d",
   "metadata": {},
   "source": [
    "#### Findings:"
   ]
  },
  {
   "cell_type": "markdown",
   "id": "0febdff7",
   "metadata": {},
   "source": [
    "Here we are able to view that the Adventure, Comedy and Sci-Fi genre has the highest sales. This may be brought by reasons such perfect direction, quality production and entertaining  movies from this certain genre."
   ]
  },
  {
   "cell_type": "markdown",
   "id": "8be89843",
   "metadata": {},
   "source": [
    "### Analysis based on Genre popularity"
   ]
  },
  {
   "cell_type": "markdown",
   "id": "ee3d210d",
   "metadata": {},
   "source": [
    "Here we will make visualizations based on genres with most popularity"
   ]
  },
  {
   "cell_type": "code",
   "execution_count": 84,
   "id": "eb071f8a",
   "metadata": {},
   "outputs": [
    {
     "data": {
      "image/png": "[encoded data removed]",
      "text/plain": [
       "<Figure size 500x500 with 1 Axes>"
      ]
     },
     "metadata": {},
     "output_type": "display_data"
    }
   ],
   "source": [
    "merged_movies_final_df[\"genres\"].value_counts().head(5).plot(kind='bar',figsize=(5,5))\n",
    "sns.set_palette('Blues')\n",
    "plt.title(\"popular genres\")\n",
    "plt.ylabel(\"counts\")\n",
    "plt.xlabel('genre')\n",
    "plt.xticks(rotation=45);"
   ]
  },
  {
   "cell_type": "markdown",
   "id": "1e97ad73",
   "metadata": {},
   "source": [
    "#### Findings:"
   ]
  },
  {
   "cell_type": "markdown",
   "id": "63449dbe",
   "metadata": {},
   "source": [
    "From the above analysis it is evident that drama genre is also the most popular genre. This may be due audience preferabilty, quality production and perfect direction from the directors associated with this particular genre"
   ]
  },
  {
   "cell_type": "markdown",
   "id": "56485a18",
   "metadata": {},
   "source": [
    "### Analysis on top selling movies with their popular genres"
   ]
  },
  {
   "cell_type": "markdown",
   "id": "6d28231d",
   "metadata": {},
   "source": [
    "We can further our analysis based on best selling movies by visualizing with their associate genres"
   ]
  },
  {
   "cell_type": "code",
   "execution_count": 85,
   "id": "976277e8",
   "metadata": {},
   "outputs": [
    {
     "data": {
      "image/png": "[encoded data removed]",
      "text/plain": [
       "<Figure size 500x500 with 1 Axes>"
      ]
     },
     "metadata": {},
     "output_type": "display_data"
    }
   ],
   "source": [
    "#top movies based on genre popularity\n",
    "top_three_movies = merged_movies_final_df[\"title\"].value_counts().head(3).index\n",
    "\n",
    "filtered_data = merged_movies_final_df[merged_movies_final_df[\"title\"].isin(top_three_movies)]\n",
    "\n",
    "top_genres=(\n",
    "    filtered_data.groupby(\"title\")[\"genres\"]\n",
    "    .value_counts()\n",
    "    .groupby(level=0).nlargest(3)\n",
    "    .reset_index(level=0,drop=True)\n",
    "    .index.get_level_values(1)\n",
    ")\n",
    "    \n",
    "filtered_data=filtered_data[filtered_data['genres'].isin(top_genres)]\n",
    "\n",
    "plt.figure(figsize=(5, 5))#select figure size\n",
    "sns.countplot(data=filtered_data, x='title', hue='genres')#selecting type of graph(countplot)\n",
    "plt.title('Top 3 Movies with Top 3 Genres Vs popularity')#title for the graph\n",
    "plt.xlabel('Movie')#x-axis label\n",
    "plt.ylabel('Popularity')#y-axis label\n",
    "plt.legend(title='Genres')#legend title\n",
    "plt.legend(fontsize='small')  # You can use 'small', 'medium', 'large' or specify a number like 8 or 10\n",
    "\n",
    "# Alternatively, you can control the size of the legend box:\n",
    "plt.legend(handlelength=1, fontsize=8)  #\n",
    "plt.show()#visualize the graph\n"
   ]
  },
  {
   "cell_type": "markdown",
   "id": "85cbe5d6",
   "metadata": {},
   "source": [
    "#### Findings:"
   ]
  },
  {
   "cell_type": "markdown",
   "id": "14e444cb",
   "metadata": {},
   "source": [
    "It is evident that the top selling movies are associated with the best rating and most popular genres such as the drama genre."
   ]
  },
  {
   "cell_type": "markdown",
   "id": "8f669b7f",
   "metadata": {},
   "source": [
    "### Analysis on best rated genre yearly"
   ]
  },
  {
   "cell_type": "markdown",
   "id": "903e0830",
   "metadata": {},
   "source": [
    "Since drama is the most popular genre we can create a visualization on how it has faired over the years"
   ]
  },
  {
   "cell_type": "code",
   "execution_count": 86,
   "id": "a0486778",
   "metadata": {},
   "outputs": [
    {
     "data": {
      "image/png": "[encoded data removed]",
      "text/plain": [
       "<Figure size 500x500 with 1 Axes>"
      ]
     },
     "metadata": {},
     "output_type": "display_data"
    }
   ],
   "source": [
    "#how genre with best rating has faired over the years(univariate analysis)\n",
    "# Filter for the genre of interest\n",
    "genre_of_interest = \"Drama\"\n",
    "drama_df = merged_movies_final_df[merged_movies_final_df['genres'].str.contains(genre_of_interest, na=False)]\n",
    "\n",
    "# Perform univariate analysis: Focus on average ratings over time\n",
    "drama_yearly = drama_df.groupby('year')['average_rating'].mean()\n",
    "\n",
    "# Plotting the univariate trend\n",
    "plt.figure(figsize=(5, 5))\n",
    "drama_yearly.plot(kind='line', marker='o', color='blue')\n",
    "plt.title(\"Drama Genre Ratings Over the Years\")\n",
    "plt.xlabel(\"Year\", fontsize=12)\n",
    "plt.ylabel(\"Average Rating\", fontsize=12)\n",
    "plt.grid(visible=True, linestyle='--', alpha=0.6)\n",
    "plt.show()"
   ]
  },
  {
   "cell_type": "markdown",
   "id": "2c08cecf",
   "metadata": {},
   "source": [
    "#### Findings:"
   ]
  },
  {
   "cell_type": "markdown",
   "id": "e09f7498",
   "metadata": {},
   "source": [
    "The graph depicts the trend of average ratings for the drama genre from 2010 to 2018. Here's an analysis: \n",
    " The ratings exhibit fluctuations over the years rather than a consistent trend. \n",
    " The highest average rating occurs around 2014, reaching approximately 6.70. \n",
    " The lowest rating is observed in 2010, near 6.45. \n",
    " There is notable variability, with significant increases from 2010 to 2011 and a sharp rise to the peak in 2014. Post-2014, the ratings dip and rise again, peaking slightly in 2016 and 2017 before a small drop in 2018. \n",
    " From 2015 to 2016, the ratings appear more stable compared to previous years. \n",
    "This analysis suggests a variability in drama ratings, with an overall upward movement from the start to the peak, followed by a decline and stabilization towards the end of the period. This may be brought about by poor direction or production for this particular genre."
   ]
  },
  {
   "cell_type": "markdown",
   "id": "af123090",
   "metadata": {},
   "source": [
    "### Analysis based on top popular directors"
   ]
  },
  {
   "cell_type": "markdown",
   "id": "f9564a2a",
   "metadata": {},
   "source": [
    "We can further our analysis based on the top 5 directors "
   ]
  },
  {
   "cell_type": "code",
   "execution_count": 87,
   "id": "19b9d8dd",
   "metadata": {},
   "outputs": [
    {
     "data": {
      "image/png": "[encoded data removed]",
      "text/plain": [
       "<Figure size 500x500 with 1 Axes>"
      ]
     },
     "metadata": {},
     "output_type": "display_data"
    }
   ],
   "source": [
    "#popular directors\n",
    "director_popularity = movie_df['director'].value_counts().head(5)\n",
    "plt.figure(figsize=(5,5))\n",
    "sns.barplot(x=director_popularity.index,y=director_popularity.values)\n",
    "plt.title(\"most popular directors\")\n",
    "plt.xlabel(\"director\")\n",
    "plt.ylabel(\"count\")\n",
    "plt.xticks(rotation=45);"
   ]
  },
  {
   "cell_type": "markdown",
   "id": "d322c7ef",
   "metadata": {},
   "source": [
    "#### Findings:"
   ]
  },
  {
   "cell_type": "markdown",
   "id": "90347407",
   "metadata": {},
   "source": [
    "From the above analysis it is evident that Clint Eastwood is the highest selling director. This may be brought by factors such as perfect direction, availability and good work ethics."
   ]
  },
  {
   "cell_type": "markdown",
   "id": "5f23aa08",
   "metadata": {},
   "source": [
    "### Analysis based on best selling directors"
   ]
  },
  {
   "cell_type": "markdown",
   "id": "8ac51366",
   "metadata": {},
   "source": [
    "We can then make a visualization to view the top selling directors based on their box office.\n",
    "\n",
    "Note: Number of tickets that are sold for a movie, as a measure of how popular and financially successful the movie or director is."
   ]
  },
  {
   "cell_type": "code",
   "execution_count": 88,
   "id": "1c65e3b7",
   "metadata": {
    "scrolled": false
   },
   "outputs": [
    {
     "data": {
      "image/png": "[encoded data removed]",
      "text/plain": [
       "<Figure size 500x500 with 1 Axes>"
      ]
     },
     "metadata": {},
     "output_type": "display_data"
    }
   ],
   "source": [
    "#best selling directors\n",
    "\n",
    "# Group by director and sum the box office sales\n",
    "director_sales = movie_df.groupby(\"director\")[\"box_office\"].sum().sort_values(ascending=False).head(10)\n",
    "\n",
    "# Create the plot\n",
    "plt.figure(figsize=(5, 5))\n",
    "sns.barplot(x=director_sales.values, y=director_sales.index, palette=\"Blues\", orient=\"h\")  # Horizontal bars\n",
    "\n",
    "# Add title and labels\n",
    "plt.xlabel('Box Office Sales')\n",
    "plt.title('Directors vs Sales')\n",
    "\n",
    "# Include x-tick labels (rotate for readability)\n",
    "plt.xticks(rotation=60)\n",
    "\n",
    "# Show the plot\n",
    "plt.show()"
   ]
  },
  {
   "cell_type": "markdown",
   "id": "a93282f7",
   "metadata": {},
   "source": [
    "#### Findings:"
   ]
  },
  {
   "cell_type": "markdown",
   "id": "5926d3e7",
   "metadata": {},
   "source": [
    "It is evident that Jay Roach made the highest sales based on box-office. This may be brought about by factors such as quality direction, good work ethics and professionalism."
   ]
  },
  {
   "cell_type": "markdown",
   "id": "12e02d89",
   "metadata": {},
   "source": [
    "### Analysis based on popular movie rating "
   ]
  },
  {
   "cell_type": "markdown",
   "id": "9dcddd23",
   "metadata": {},
   "source": [
    "We can further our analysis by movie rating popularity.\n",
    "\n",
    "Note:  In this visualization we are reviwing most popular assigned for each audience as follows:\n",
    " 1. R means restricted for audience under 18 years(adults)\n",
    " 2. PG-13 means restricted for audience under 13 years\n",
    " 3. PG means not restricted but requires parental guidance for audience less than 13 years\n",
    " 4. NR means not rated\n",
    " 5. G means for general audience meaning it is not restricted to any audience"
   ]
  },
  {
   "cell_type": "code",
   "execution_count": 89,
   "id": "c966df28",
   "metadata": {},
   "outputs": [
    {
     "data": {
      "image/png": "[encoded data removed]",
      "text/plain": [
       "<Figure size 500x500 with 1 Axes>"
      ]
     },
     "metadata": {},
     "output_type": "display_data"
    }
   ],
   "source": [
    "#popular movie rating\n",
    "rating_popularity = movie_df['rating'].value_counts().head(5)\n",
    "plt.figure(figsize=(5,5))\n",
    "sns.barplot(x=rating_popularity.index,y=rating_popularity.values)\n",
    "plt.title(\"most popular movie rating\")\n",
    "plt.xlabel(\"movie rating\")\n",
    "plt.ylabel(\"count\")\n",
    "plt.xticks(rotation=45);"
   ]
  },
  {
   "cell_type": "markdown",
   "id": "4448d611",
   "metadata": {},
   "source": [
    "#### Findings "
   ]
  },
  {
   "cell_type": "markdown",
   "id": "96c88904",
   "metadata": {},
   "source": [
    "It is evident that the movie rating with the highest popularity is the R rated. This may be due to audience popularity who are adults."
   ]
  },
  {
   "cell_type": "markdown",
   "id": "f3208ed8",
   "metadata": {},
   "source": [
    "### Analysis based on the best selling director yearly"
   ]
  },
  {
   "cell_type": "markdown",
   "id": "6455aea7",
   "metadata": {},
   "source": [
    "Here we did analysis on the best selling director and he faired on yearly"
   ]
  },
  {
   "cell_type": "code",
   "execution_count": 90,
   "id": "042760ee",
   "metadata": {},
   "outputs": [
    {
     "data": {
      "image/png": "[encoded data removed]",
      "text/plain": [
       "<Figure size 500x500 with 1 Axes>"
      ]
     },
     "metadata": {},
     "output_type": "display_data"
    }
   ],
   "source": [
    "#univariate analysis based on the highest selling director\n",
    "# Filter for the genre of interest\n",
    "highest_director = \"Jay Roach\"\n",
    "director_df = movie_df[movie_df['director'].str.contains(highest_director, na=False)]\n",
    "\n",
    "# Perform univariate analysis: Focus on average ratings over time\n",
    "performance_yearly = director_df.groupby('year')['box_office'].mean()\n",
    "\n",
    "# Plotting the univariate trend\n",
    "plt.figure(figsize=(5, 5))\n",
    "drama_yearly.plot(kind='line', marker='o', color='blue')\n",
    "plt.title(\"Jay Roach's sales Over the Years\")\n",
    "plt.xlabel(\"Year\", fontsize=12)\n",
    "plt.ylabel(\"Sales\", fontsize=12)\n",
    "plt.grid(visible=True, linestyle='--', alpha=0.6)\n",
    "plt.show()"
   ]
  },
  {
   "cell_type": "markdown",
   "id": "c8a70c57",
   "metadata": {},
   "source": [
    "#### Findings:"
   ]
  },
  {
   "cell_type": "markdown",
   "id": "114734bb",
   "metadata": {},
   "source": [
    "The director sales have exhibit fluctuations over the years, with no consistent upward or downward trend. There are peaks and troughs at various points.\n",
    "The sales peaked significantly in 2014.\n",
    "There was another noticeable high point in 2017.\n",
    "The lowest sales occurred in 2010 and 2011.\n",
    "A decline in sales can also be observed in 2015 and 2018 after prior increases.\n",
    "Between 2012 and 2013 as well as 2015 to 2016, the sales remained relatively stable with minimal fluctuations.\n",
    "The variation in sales could be attributed to the performance of individual projects, changes in market dynamics, or external factors like competition or shifts in audience preferences."
   ]
  },
  {
   "cell_type": "markdown",
   "id": "51d76ac6",
   "metadata": {},
   "source": [
    "## Conclusions based on our analysis"
   ]
  },
  {
   "cell_type": "markdown",
   "id": "8afb45d8",
   "metadata": {},
   "source": [
    "1. The drama genre is highest in rating and popularity\n",
    "2. The genre adventure,comedy,Sci-Fi is top selling genre\n",
    "3. The top selling movies are all associated the top rated and most popular genre which is drama\n",
    "4. There has been a decline in average_rating for the drama genre\n",
    "5. Clint Eastwood is the most popular director\n",
    "6. The best selling director is Jay Roach\n",
    "7. Most popular movies based on their movie ratings are for the adult audience\n",
    "8. The best selling director has been able to maintain high sales"
   ]
  },
  {
   "cell_type": "markdown",
   "id": "8d18920e",
   "metadata": {},
   "source": [
    "## Recommendations "
   ]
  },
  {
   "cell_type": "markdown",
   "id": "d39f00be",
   "metadata": {},
   "source": [
    "1. We recommend the studio produce movies related to the drama genre\n",
    "2. The studio to consider making movies associated with the Adventure,Comedy,Sci-Fi genres as the highest selling genres\n",
    "3. Also recommend the studio to work with the director Clint Eastwood based on his popularity\n",
    "4. The studio can also consider working with the highest selling director Jay Roach\n",
    "5. Finally we recommend that the studio make adult films as it is the most popular among the audiences"
   ]
  },
  {
   "cell_type": "markdown",
   "id": "a4568044",
   "metadata": {},
   "source": [
    "# Modeling\n"
   ]
  },
  {
   "cell_type": "code",
   "execution_count": null,
   "id": "6aeecfd8",
   "metadata": {},
   "outputs": [],
   "source": []
  },
  {
   "cell_type": "markdown",
   "id": "46f907e0",
   "metadata": {},
   "source": [
    "# Evaluation"
   ]
  },
  {
   "cell_type": "code",
   "execution_count": null,
   "id": "1082e57e",
   "metadata": {},
   "outputs": [],
   "source": []
  }
 ],
 "metadata": {
  "kernelspec": {
   "display_name": "Python 3 (ipykernel)",
   "language": "python",
   "name": "python3"
  },
  "language_info": {
   "codemirror_mode": {
    "name": "ipython",
    "version": 3
   },
   "file_extension": ".py",
   "mimetype": "text/x-python",
   "name": "python",
   "nbconvert_exporter": "python",
   "pygments_lexer": "ipython3",
   "version": "3.11.7"
  },
  "toc": {
   "base_numbering": 1,
   "nav_menu": {},
   "number_sections": true,
   "sideBar": true,
   "skip_h1_title": false,
   "title_cell": "Table of Contents",
   "title_sidebar": "Contents",
   "toc_cell": false,
   "toc_position": {},
   "toc_section_display": true,
   "toc_window_display": false
  }
 },
 "nbformat": 4,
 "nbformat_minor": 5
}
